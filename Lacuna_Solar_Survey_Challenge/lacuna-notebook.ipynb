{
 "cells": [
  {
   "cell_type": "code",
   "execution_count": 1,
   "id": "43cc8706",
   "metadata": {
    "execution": {
     "iopub.execute_input": "2025-03-22T07:57:03.139195Z",
     "iopub.status.busy": "2025-03-22T07:57:03.138897Z",
     "iopub.status.idle": "2025-03-22T07:57:10.988639Z",
     "shell.execute_reply": "2025-03-22T07:57:10.987813Z"
    },
    "papermill": {
     "duration": 7.854584,
     "end_time": "2025-03-22T07:57:10.990428",
     "exception": false,
     "start_time": "2025-03-22T07:57:03.135844",
     "status": "completed"
    },
    "tags": []
   },
   "outputs": [
    {
     "name": "stdout",
     "output_type": "stream",
     "text": [
      "Requirement already satisfied: torch in /usr/local/lib/python3.10/dist-packages (2.5.1+cu121)\r\n",
      "Requirement already satisfied: torchvision in /usr/local/lib/python3.10/dist-packages (0.20.1+cu121)\r\n",
      "Requirement already satisfied: torchaudio in /usr/local/lib/python3.10/dist-packages (2.5.1+cu121)\r\n",
      "Requirement already satisfied: timm in /usr/local/lib/python3.10/dist-packages (1.0.12)\r\n",
      "Requirement already satisfied: albumentations in /usr/local/lib/python3.10/dist-packages (1.4.20)\r\n",
      "Requirement already satisfied: pandas in /usr/local/lib/python3.10/dist-packages (2.2.3)\r\n",
      "Requirement already satisfied: opencv-python in /usr/local/lib/python3.10/dist-packages (4.10.0.84)\r\n",
      "Requirement already satisfied: scikit-learn in /usr/local/lib/python3.10/dist-packages (1.2.2)\r\n",
      "Requirement already satisfied: numpy in /usr/local/lib/python3.10/dist-packages (1.26.4)\r\n",
      "Requirement already satisfied: tqdm in /usr/local/lib/python3.10/dist-packages (4.67.1)\r\n",
      "Requirement already satisfied: matplotlib in /usr/local/lib/python3.10/dist-packages (3.7.5)\r\n",
      "Collecting torch-xla\r\n",
      "  Downloading torch_xla-2.6.0-cp310-cp310-manylinux_2_28_x86_64.whl.metadata (21 kB)\r\n",
      "Requirement already satisfied: filelock in /usr/local/lib/python3.10/dist-packages (from torch) (3.17.0)\r\n",
      "Requirement already satisfied: typing-extensions>=4.8.0 in /usr/local/lib/python3.10/dist-packages (from torch) (4.12.2)\r\n",
      "Requirement already satisfied: networkx in /usr/local/lib/python3.10/dist-packages (from torch) (3.4.2)\r\n",
      "Requirement already satisfied: jinja2 in /usr/local/lib/python3.10/dist-packages (from torch) (3.1.4)\r\n",
      "Requirement already satisfied: fsspec in /usr/local/lib/python3.10/dist-packages (from torch) (2024.12.0)\r\n",
      "Requirement already satisfied: sympy==1.13.1 in /usr/local/lib/python3.10/dist-packages (from torch) (1.13.1)\r\n",
      "Requirement already satisfied: mpmath<1.4,>=1.1.0 in /usr/local/lib/python3.10/dist-packages (from sympy==1.13.1->torch) (1.3.0)\r\n",
      "Requirement already satisfied: pillow!=8.3.*,>=5.3.0 in /usr/local/lib/python3.10/dist-packages (from torchvision) (11.0.0)\r\n",
      "Requirement already satisfied: pyyaml in /usr/local/lib/python3.10/dist-packages (from timm) (6.0.2)\r\n",
      "Requirement already satisfied: huggingface_hub in /usr/local/lib/python3.10/dist-packages (from timm) (0.29.0)\r\n",
      "Requirement already satisfied: safetensors in /usr/local/lib/python3.10/dist-packages (from timm) (0.4.5)\r\n",
      "Requirement already satisfied: scipy>=1.10.0 in /usr/local/lib/python3.10/dist-packages (from albumentations) (1.13.1)\r\n",
      "Requirement already satisfied: pydantic>=2.7.0 in /usr/local/lib/python3.10/dist-packages (from albumentations) (2.11.0a2)\r\n",
      "Requirement already satisfied: albucore==0.0.19 in /usr/local/lib/python3.10/dist-packages (from albumentations) (0.0.19)\r\n",
      "Requirement already satisfied: eval-type-backport in /usr/local/lib/python3.10/dist-packages (from albumentations) (0.2.0)\r\n",
      "Requirement already satisfied: opencv-python-headless>=4.9.0.80 in /usr/local/lib/python3.10/dist-packages (from albumentations) (4.10.0.84)\r\n",
      "Requirement already satisfied: stringzilla>=3.10.4 in /usr/local/lib/python3.10/dist-packages (from albucore==0.0.19->albumentations) (3.11.1)\r\n",
      "Requirement already satisfied: python-dateutil>=2.8.2 in /usr/local/lib/python3.10/dist-packages (from pandas) (2.9.0.post0)\r\n",
      "Requirement already satisfied: pytz>=2020.1 in /usr/local/lib/python3.10/dist-packages (from pandas) (2025.1)\r\n",
      "Requirement already satisfied: tzdata>=2022.7 in /usr/local/lib/python3.10/dist-packages (from pandas) (2025.1)\r\n",
      "Requirement already satisfied: joblib>=1.1.1 in /usr/local/lib/python3.10/dist-packages (from scikit-learn) (1.4.2)\r\n",
      "Requirement already satisfied: threadpoolctl>=2.0.0 in /usr/local/lib/python3.10/dist-packages (from scikit-learn) (3.5.0)\r\n",
      "Requirement already satisfied: mkl_fft in /usr/local/lib/python3.10/dist-packages (from numpy) (1.3.8)\r\n",
      "Requirement already satisfied: mkl_random in /usr/local/lib/python3.10/dist-packages (from numpy) (1.2.4)\r\n",
      "Requirement already satisfied: mkl_umath in /usr/local/lib/python3.10/dist-packages (from numpy) (0.1.1)\r\n",
      "Requirement already satisfied: mkl in /usr/local/lib/python3.10/dist-packages (from numpy) (2025.0.1)\r\n",
      "Requirement already satisfied: tbb4py in /usr/local/lib/python3.10/dist-packages (from numpy) (2022.0.0)\r\n",
      "Requirement already satisfied: mkl-service in /usr/local/lib/python3.10/dist-packages (from numpy) (2.4.1)\r\n",
      "Requirement already satisfied: contourpy>=1.0.1 in /usr/local/lib/python3.10/dist-packages (from matplotlib) (1.3.1)\r\n",
      "Requirement already satisfied: cycler>=0.10 in /usr/local/lib/python3.10/dist-packages (from matplotlib) (0.12.1)\r\n",
      "Requirement already satisfied: fonttools>=4.22.0 in /usr/local/lib/python3.10/dist-packages (from matplotlib) (4.55.3)\r\n",
      "Requirement already satisfied: kiwisolver>=1.0.1 in /usr/local/lib/python3.10/dist-packages (from matplotlib) (1.4.7)\r\n",
      "Requirement already satisfied: packaging>=20.0 in /usr/local/lib/python3.10/dist-packages (from matplotlib) (24.2)\r\n",
      "Requirement already satisfied: pyparsing>=2.3.1 in /usr/local/lib/python3.10/dist-packages (from matplotlib) (3.2.0)\r\n",
      "Requirement already satisfied: absl-py>=1.0.0 in /usr/local/lib/python3.10/dist-packages (from torch-xla) (1.4.0)\r\n",
      "Requirement already satisfied: requests in /usr/local/lib/python3.10/dist-packages (from torch-xla) (2.32.3)\r\n",
      "Requirement already satisfied: annotated-types>=0.6.0 in /usr/local/lib/python3.10/dist-packages (from pydantic>=2.7.0->albumentations) (0.7.0)\r\n",
      "Requirement already satisfied: pydantic-core==2.29.0 in /usr/local/lib/python3.10/dist-packages (from pydantic>=2.7.0->albumentations) (2.29.0)\r\n",
      "Requirement already satisfied: six>=1.5 in /usr/local/lib/python3.10/dist-packages (from python-dateutil>=2.8.2->pandas) (1.17.0)\r\n",
      "Requirement already satisfied: MarkupSafe>=2.0 in /usr/local/lib/python3.10/dist-packages (from jinja2->torch) (3.0.2)\r\n",
      "Requirement already satisfied: intel-openmp>=2024 in /usr/local/lib/python3.10/dist-packages (from mkl->numpy) (2024.2.0)\r\n",
      "Requirement already satisfied: tbb==2022.* in /usr/local/lib/python3.10/dist-packages (from mkl->numpy) (2022.0.0)\r\n",
      "Requirement already satisfied: tcmlib==1.* in /usr/local/lib/python3.10/dist-packages (from tbb==2022.*->mkl->numpy) (1.2.0)\r\n",
      "Requirement already satisfied: intel-cmplr-lib-rt in /usr/local/lib/python3.10/dist-packages (from mkl_umath->numpy) (2024.2.0)\r\n",
      "Requirement already satisfied: charset-normalizer<4,>=2 in /usr/local/lib/python3.10/dist-packages (from requests->torch-xla) (3.4.1)\r\n",
      "Requirement already satisfied: idna<4,>=2.5 in /usr/local/lib/python3.10/dist-packages (from requests->torch-xla) (3.10)\r\n",
      "Requirement already satisfied: urllib3<3,>=1.21.1 in /usr/local/lib/python3.10/dist-packages (from requests->torch-xla) (2.3.0)\r\n",
      "Requirement already satisfied: certifi>=2017.4.17 in /usr/local/lib/python3.10/dist-packages (from requests->torch-xla) (2025.1.31)\r\n",
      "Requirement already satisfied: intel-cmplr-lib-ur==2024.2.0 in /usr/local/lib/python3.10/dist-packages (from intel-openmp>=2024->mkl->numpy) (2024.2.0)\r\n",
      "Downloading torch_xla-2.6.0-cp310-cp310-manylinux_2_28_x86_64.whl (93.6 MB)\r\n",
      "\u001b[2K   \u001b[90m━━━━━━━━━━━━━━━━━━━━━━━━━━━━━━━━━━━━━━━━\u001b[0m \u001b[32m93.6/93.6 MB\u001b[0m \u001b[31m18.3 MB/s\u001b[0m eta \u001b[36m0:00:00\u001b[0m\r\n",
      "\u001b[?25hInstalling collected packages: torch-xla\r\n",
      "Successfully installed torch-xla-2.6.0\r\n"
     ]
    }
   ],
   "source": [
    "!pip install torch torchvision torchaudio timm albumentations pandas opencv-python scikit-learn numpy tqdm matplotlib torch-xla"
   ]
  },
  {
   "cell_type": "code",
   "execution_count": 2,
   "id": "d5ba0312",
   "metadata": {
    "execution": {
     "iopub.execute_input": "2025-03-22T07:57:10.998534Z",
     "iopub.status.busy": "2025-03-22T07:57:10.998301Z",
     "iopub.status.idle": "2025-03-22T07:57:23.700909Z",
     "shell.execute_reply": "2025-03-22T07:57:23.700178Z"
    },
    "papermill": {
     "duration": 12.708126,
     "end_time": "2025-03-22T07:57:23.702382",
     "exception": false,
     "start_time": "2025-03-22T07:57:10.994256",
     "status": "completed"
    },
    "tags": []
   },
   "outputs": [
    {
     "name": "stderr",
     "output_type": "stream",
     "text": [
      "/usr/local/lib/python3.10/dist-packages/albumentations/__init__.py:24: UserWarning: A new version of Albumentations is available: 2.0.5 (you have 1.4.20). Upgrade using: pip install -U albumentations. To disable automatic update checks, set the environment variable NO_ALBUMENTATIONS_UPDATE to 1.\n",
      "  check_for_updates()\n"
     ]
    }
   ],
   "source": [
    "# ====================\n",
    "# STEP 1: Imports & Environment Setup\n",
    "# ====================\n",
    "import os\n",
    "import random\n",
    "import timm\n",
    "import torch\n",
    "import torch.nn as nn\n",
    "import torch.optim as optim\n",
    "import albumentations as A\n",
    "from albumentations.pytorch import ToTensorV2\n",
    "from torch.utils.data import Dataset, DataLoader\n",
    "import pandas as pd\n",
    "import cv2\n",
    "from sklearn.model_selection import KFold\n",
    "import numpy as np\n",
    "from tqdm import tqdm\n",
    "from torch.amp import autocast, GradScaler\n",
    "from sklearn.metrics import mean_absolute_error\n",
    "\n",
    "# Fixed Albumentations version warning\n",
    "os.environ['NO_ALBUMENTATIONS_UPDATE'] = '1'\n",
    "\n",
    "# Set device and seed for reproducibility\n",
    "device = torch.device(\"cuda\" if torch.cuda.is_available() else \"cpu\")\n",
    "\n",
    "def set_seed(seed=42):\n",
    "    random.seed(seed)\n",
    "    np.random.seed(seed)\n",
    "    torch.manual_seed(seed)\n",
    "    if device.type == 'cuda':\n",
    "        torch.cuda.manual_seed_all(seed)\n",
    "\n",
    "set_seed(42)\n",
    "\n",
    "\n",
    "# Setup base and image directory\n",
    "BASE_DIR = \"/kaggle/input/lacuna-solar-survey-challenge\"\n",
    "IMAGE_DIR = os.path.join(BASE_DIR, \"images\")\n",
    "CHECKPOINT_DIR = \"/kaggle/working/\"\n",
    "os.makedirs(CHECKPOINT_DIR, exist_ok=True)  # Ensure the directory exists"
   ]
  },
  {
   "cell_type": "code",
   "execution_count": 3,
   "id": "6213bef1",
   "metadata": {
    "execution": {
     "iopub.execute_input": "2025-03-22T07:57:23.710454Z",
     "iopub.status.busy": "2025-03-22T07:57:23.710046Z",
     "iopub.status.idle": "2025-03-22T07:57:23.736154Z",
     "shell.execute_reply": "2025-03-22T07:57:23.735532Z"
    },
    "papermill": {
     "duration": 0.031484,
     "end_time": "2025-03-22T07:57:23.737435",
     "exception": false,
     "start_time": "2025-03-22T07:57:23.705951",
     "status": "completed"
    },
    "tags": []
   },
   "outputs": [],
   "source": [
    "\n",
    "\n",
    "# ====================\n",
    "# STEP 2: Dataset with Metadata\n",
    "# ====================\n",
    "class SolarPanelDataset(Dataset):\n",
    "    def __init__(self, dataframe, transform=None, to_train=True):\n",
    "        self.dataframe = dataframe.reset_index(drop=True)\n",
    "        self.transform = transform\n",
    "        self.to_train = to_train\n",
    "        self.placement_map = {\"roof\": 0, \"openspace\": 1, \"r_openspace\": 2, \"S-unknown\": 3}\n",
    "\n",
    "    def __len__(self):\n",
    "        return len(self.dataframe)\n",
    "\n",
    "    def __getitem__(self, idx):\n",
    "        row = self.dataframe.iloc[idx]\n",
    "        # Construct the full image path using IMAGE_DIR\n",
    "        img_path = row[\"path\"]\n",
    "        image = cv2.imread(img_path)\n",
    "        if image is None:\n",
    "            raise ValueError(f\"Image not found at {img_path}\")\n",
    "        image = cv2.cvtColor(image, cv2.COLOR_BGR2RGB)  # Convert to RGB\n",
    "\n",
    "        # Prepare metadata vector: first element indicates img_origin, next 4 are one-hot for placement\n",
    "        metadata = torch.zeros(5, dtype=torch.float32)\n",
    "        metadata[0] = 1.0 if row[\"img_origin\"] == \"D\" else 0.0\n",
    "        placement = self.placement_map.get(row[\"placement\"], 3)\n",
    "        metadata[1 + placement] = 1.0  # One-hot encoding\n",
    "\n",
    "        if self.transform:\n",
    "            image = self.transform(image=image)['image']\n",
    "        if self.to_train:\n",
    "            target = torch.tensor([row[\"boil_nbr\"], row[\"pan_nbr\"]], dtype=torch.float32)\n",
    "            return image, metadata, target\n",
    "        return image, metadata\n",
    "\n",
    "# ====================\n",
    "# STEP 3: Model Definition\n",
    "# ====================\n",
    "class EfficientNetV2Meta(nn.Module):\n",
    "    def __init__(self):\n",
    "        super(EfficientNetV2Meta, self).__init__()\n",
    "        self.backbone = timm.create_model(\"tf_efficientnetv2_b3\", pretrained=True, num_classes=0)\n",
    "        self.meta_processor = nn.Sequential(\n",
    "            nn.Linear(5, 128),\n",
    "            nn.LayerNorm(128),\n",
    "            nn.ReLU(),\n",
    "            nn.Dropout(0.3),\n",
    "            nn.Linear(128, 64)\n",
    "        )\n",
    "        self.attention = nn.MultiheadAttention(embed_dim=64, num_heads=4)\n",
    "        self.regressor = nn.Sequential(\n",
    "            nn.Linear(self.backbone.num_features + 64, 512),\n",
    "            nn.ReLU(),\n",
    "            nn.Dropout(0.2),\n",
    "            nn.Linear(512, 2),\n",
    "            nn.Softplus()  # Suitable for count predictions\n",
    "        )\n",
    "\n",
    "    def forward(self, image, metadata):\n",
    "        img_features = self.backbone(image)\n",
    "        meta_features = self.meta_processor(metadata.unsqueeze(0))\n",
    "        attn_output, _ = self.attention(meta_features, meta_features, meta_features)\n",
    "        combined = torch.cat([img_features, attn_output.squeeze(0)], dim=1)\n",
    "        return self.regressor(combined)\n",
    "\n",
    "# ====================\n",
    "# STEP 4: Data Augmentation\n",
    "# ====================\n",
    "IMG_SIZE = (512, 512)\n",
    "train_transform = A.Compose([\n",
    "    A.RandomResizedCrop(size=IMG_SIZE, scale=(0.7, 1.0)),\n",
    "    A.HorizontalFlip(p=0.5),\n",
    "    A.VerticalFlip(p=0.5),\n",
    "    A.RandomRotate90(p=0.5),\n",
    "    A.GaussianBlur(blur_limit=(3, 7), p=0.3),\n",
    "    A.CLAHE(clip_limit=4.0, p=0.5),\n",
    "    A.HueSaturationValue(p=0.3),\n",
    "    A.Normalize(mean=(0.485, 0.456, 0.406), std=(0.229, 0.224, 0.225)),\n",
    "    ToTensorV2()\n",
    "])\n",
    "\n",
    "test_transform = A.Compose([\n",
    "    A.Resize(height=IMG_SIZE[0], width=IMG_SIZE[1]),\n",
    "    A.Normalize(mean=(0.485, 0.456, 0.406), std=(0.229, 0.224, 0.225)),\n",
    "    ToTensorV2()\n",
    "])\n",
    "\n",
    "# ====================\n",
    "# STEP 5: Training & Validation Functions\n",
    "# ====================\n",
    "def train_one_fold(train_df, fold, epochs=20, batch_size=16):\n",
    "    print(f\"Starting training for fold {fold+1}\")\n",
    "\n",
    "    # Aggregate train_df by ID and update the image path using IMAGE_DIR\n",
    "    train_df = train_df.groupby(\"ID\").agg({\n",
    "        \"boil_nbr\": \"sum\",\n",
    "        \"pan_nbr\": \"sum\",\n",
    "        \"img_origin\": \"first\",\n",
    "        \"placement\": \"first\"\n",
    "    }).reset_index()\n",
    "    train_df[\"path\"] = train_df[\"ID\"].apply(lambda x: os.path.join(IMAGE_DIR, f\"{x}.jpg\"))\n",
    "\n",
    "    # Create K-Fold splits\n",
    "    kf = KFold(n_splits=5, shuffle=True, random_state=42)\n",
    "    splits = list(kf.split(train_df))\n",
    "    train_idx, val_idx = splits[fold]\n",
    "\n",
    "    train_ds = SolarPanelDataset(train_df.iloc[train_idx], transform=train_transform)\n",
    "    val_ds = SolarPanelDataset(train_df.iloc[val_idx], transform=test_transform)\n",
    "\n",
    "    train_loader = DataLoader(train_ds, batch_size=batch_size, shuffle=True, num_workers=2, pin_memory=True)\n",
    "    val_loader = DataLoader(val_ds, batch_size=batch_size * 2, shuffle=False, num_workers=2, pin_memory=True)\n",
    "\n",
    "    model = EfficientNetV2Meta().to(device)\n",
    "    criterion = nn.HuberLoss(delta=1.0)\n",
    "    optimizer = optim.AdamW(model.parameters(), lr=1e-4, weight_decay=1e-4)\n",
    "    scheduler = optim.lr_scheduler.CosineAnnealingWarmRestarts(optimizer, T_0=10, T_mult=2)\n",
    "    scaler = GradScaler()\n",
    "\n",
    "    best_mae = float('inf')\n",
    "\n",
    "    for epoch in range(epochs):\n",
    "        # Training loop\n",
    "        model.train()\n",
    "        train_loss = 0.0\n",
    "        pbar = tqdm(train_loader, desc=f\"Epoch {epoch+1}/{epochs} [Train]\")\n",
    "        for images, meta, targets in pbar:\n",
    "            images = images.to(device, non_blocking=True)\n",
    "            meta = meta.to(device, non_blocking=True)\n",
    "            targets = targets.to(device, non_blocking=True)\n",
    "\n",
    "            optimizer.zero_grad()\n",
    "            with autocast(device_type=device.type):\n",
    "                outputs = model(images, meta)\n",
    "                loss = criterion(outputs, targets)\n",
    "            scaler.scale(loss).backward()\n",
    "            scaler.step(optimizer)\n",
    "            scaler.update()\n",
    "\n",
    "            train_loss += loss.item()\n",
    "            pbar.set_postfix(loss=f\"{loss.item():.4f}\")\n",
    "\n",
    "        # Validation loop\n",
    "        model.eval()\n",
    "        val_loss = 0.0\n",
    "        preds, truths = [], []\n",
    "        with torch.no_grad():\n",
    "            for images, meta, targets in tqdm(val_loader, desc=f\"Epoch {epoch+1}/{epochs} [Val]\"):\n",
    "                images = images.to(device, non_blocking=True)\n",
    "                meta = meta.to(device, non_blocking=True)\n",
    "                targets = targets.to(device, non_blocking=True)\n",
    "\n",
    "                with autocast(device_type=device.type):\n",
    "                    outputs = model(images, meta)\n",
    "                    loss = criterion(outputs, targets)\n",
    "\n",
    "                val_loss += loss.item()\n",
    "                preds.append(outputs.cpu().numpy())\n",
    "                truths.append(targets.cpu().numpy())\n",
    "\n",
    "        # Compute average loss and MAE\n",
    "        train_loss /= len(train_loader)\n",
    "        val_loss /= len(val_loader)\n",
    "        preds = np.concatenate(preds)\n",
    "        truths = np.concatenate(truths)\n",
    "        mae = mean_absolute_error(truths, preds)\n",
    "\n",
    "        print(f\"Epoch {epoch+1}/{epochs} - Train Loss: {train_loss:.4f}, Val Loss: {val_loss:.4f}, Val MAE: {mae:.4f}\")\n",
    "\n",
    "        # Save best model\n",
    "        if mae < best_mae:\n",
    "            best_mae = mae\n",
    "            #checkpoint_path = f\"best_model_fold{fold}.pth\"\n",
    "            checkpoint_path = os.path.join(CHECKPOINT_DIR, f\"best_model_fold{fold}.pth\")\n",
    "            torch.save(model.state_dict(), checkpoint_path)\n",
    "            print(f\"Saved new best model to {checkpoint_path}\")\n",
    "\n",
    "        scheduler.step()\n",
    "\n",
    "    return best_mae\n",
    "\n",
    "# ====================\n",
    "# STEP 6: Inference with TTA\n",
    "# ====================\n",
    "def predict(test_df, model_paths, batch_size=32):\n",
    "    test_df[\"path\"] = test_df[\"ID\"].apply(lambda x: os.path.join(IMAGE_DIR, f\"{x}.jpg\"))\n",
    "    test_ds = SolarPanelDataset(test_df, transform=test_transform, to_train=False)\n",
    "    test_loader = DataLoader(test_ds, batch_size=batch_size, shuffle=False, num_workers=4, pin_memory=True)\n",
    "\n",
    "    predictions = np.zeros((len(test_df), 2))\n",
    "    for path in model_paths:\n",
    "        model = EfficientNetV2Meta().to(device)\n",
    "        state_dict = torch.load(path, map_location=device)\n",
    "        model.load_state_dict(state_dict)\n",
    "        model.eval()\n",
    "\n",
    "        tta_preds = []\n",
    "        with torch.no_grad():\n",
    "            for images, meta in tqdm(test_loader, desc=\"Inference\"):\n",
    "                images = images.to(device)\n",
    "                meta = meta.to(device)\n",
    "                with autocast(device_type=device.type):\n",
    "                    outputs = model(images, meta)\n",
    "                tta_preds.append(outputs.cpu().numpy())\n",
    "\n",
    "        predictions += np.concatenate(tta_preds)\n",
    "\n",
    "    return predictions / len(model_paths)"
   ]
  },
  {
   "cell_type": "code",
   "execution_count": 4,
   "id": "eb332b26",
   "metadata": {
    "execution": {
     "iopub.execute_input": "2025-03-22T07:57:23.744714Z",
     "iopub.status.busy": "2025-03-22T07:57:23.744503Z",
     "iopub.status.idle": "2025-03-22T19:14:45.209531Z",
     "shell.execute_reply": "2025-03-22T19:14:45.208387Z"
    },
    "papermill": {
     "duration": 40641.470274,
     "end_time": "2025-03-22T19:14:45.211036",
     "exception": false,
     "start_time": "2025-03-22T07:57:23.740762",
     "status": "completed"
    },
    "tags": []
   },
   "outputs": [
    {
     "name": "stdout",
     "output_type": "stream",
     "text": [
      "Training fold 1/3\n",
      "Starting training for fold 1\n"
     ]
    },
    {
     "data": {
      "application/vnd.jupyter.widget-view+json": {
       "model_id": "c15e7bc08147417dbcbee667c65543ca",
       "version_major": 2,
       "version_minor": 0
      },
      "text/plain": [
       "model.safetensors:   0%|          | 0.00/57.9M [00:00<?, ?B/s]"
      ]
     },
     "metadata": {},
     "output_type": "display_data"
    },
    {
     "name": "stderr",
     "output_type": "stream",
     "text": [
      "Epoch 1/52 [Train]: 100%|██████████| 83/83 [03:53<00:00,  2.81s/it, loss=1.5508]\n",
      "Epoch 1/52 [Val]: 100%|██████████| 11/11 [00:56<00:00,  5.10s/it]\n"
     ]
    },
    {
     "name": "stdout",
     "output_type": "stream",
     "text": [
      "Epoch 1/52 - Train Loss: 2.1364, Val Loss: 1.6291, Val MAE: 1.9026\n",
      "Saved new best model to /kaggle/working/best_model_fold0.pth\n"
     ]
    },
    {
     "name": "stderr",
     "output_type": "stream",
     "text": [
      "Epoch 2/52 [Train]: 100%|██████████| 83/83 [03:27<00:00,  2.50s/it, loss=1.3577]\n",
      "Epoch 2/52 [Val]: 100%|██████████| 11/11 [00:49<00:00,  4.46s/it]\n"
     ]
    },
    {
     "name": "stdout",
     "output_type": "stream",
     "text": [
      "Epoch 2/52 - Train Loss: 1.7282, Val Loss: 1.4233, Val MAE: 1.6279\n",
      "Saved new best model to /kaggle/working/best_model_fold0.pth\n"
     ]
    },
    {
     "name": "stderr",
     "output_type": "stream",
     "text": [
      "Epoch 3/52 [Train]: 100%|██████████| 83/83 [03:25<00:00,  2.48s/it, loss=0.4731]\n",
      "Epoch 3/52 [Val]: 100%|██████████| 11/11 [00:48<00:00,  4.45s/it]\n"
     ]
    },
    {
     "name": "stdout",
     "output_type": "stream",
     "text": [
      "Epoch 3/52 - Train Loss: 1.6023, Val Loss: 1.3409, Val MAE: 1.6141\n",
      "Saved new best model to /kaggle/working/best_model_fold0.pth\n"
     ]
    },
    {
     "name": "stderr",
     "output_type": "stream",
     "text": [
      "Epoch 4/52 [Train]: 100%|██████████| 83/83 [03:24<00:00,  2.46s/it, loss=0.3202]\n",
      "Epoch 4/52 [Val]: 100%|██████████| 11/11 [00:49<00:00,  4.46s/it]\n"
     ]
    },
    {
     "name": "stdout",
     "output_type": "stream",
     "text": [
      "Epoch 4/52 - Train Loss: 1.3790, Val Loss: 1.1860, Val MAE: 1.4285\n",
      "Saved new best model to /kaggle/working/best_model_fold0.pth\n"
     ]
    },
    {
     "name": "stderr",
     "output_type": "stream",
     "text": [
      "Epoch 5/52 [Train]: 100%|██████████| 83/83 [03:25<00:00,  2.47s/it, loss=0.9255]\n",
      "Epoch 5/52 [Val]: 100%|██████████| 11/11 [00:49<00:00,  4.47s/it]\n"
     ]
    },
    {
     "name": "stdout",
     "output_type": "stream",
     "text": [
      "Epoch 5/52 - Train Loss: 1.3868, Val Loss: 1.2904, Val MAE: 1.5392\n"
     ]
    },
    {
     "name": "stderr",
     "output_type": "stream",
     "text": [
      "Epoch 6/52 [Train]: 100%|██████████| 83/83 [03:28<00:00,  2.51s/it, loss=0.6720]\n",
      "Epoch 6/52 [Val]: 100%|██████████| 11/11 [00:49<00:00,  4.52s/it]\n"
     ]
    },
    {
     "name": "stdout",
     "output_type": "stream",
     "text": [
      "Epoch 6/52 - Train Loss: 1.1879, Val Loss: 1.0922, Val MAE: 1.3338\n",
      "Saved new best model to /kaggle/working/best_model_fold0.pth\n"
     ]
    },
    {
     "name": "stderr",
     "output_type": "stream",
     "text": [
      "Epoch 7/52 [Train]: 100%|██████████| 83/83 [03:26<00:00,  2.49s/it, loss=0.4820]\n",
      "Epoch 7/52 [Val]: 100%|██████████| 11/11 [00:49<00:00,  4.47s/it]\n"
     ]
    },
    {
     "name": "stdout",
     "output_type": "stream",
     "text": [
      "Epoch 7/52 - Train Loss: 1.0756, Val Loss: 1.4172, Val MAE: 1.6526\n"
     ]
    },
    {
     "name": "stderr",
     "output_type": "stream",
     "text": [
      "Epoch 8/52 [Train]: 100%|██████████| 83/83 [03:26<00:00,  2.49s/it, loss=0.4478]\n",
      "Epoch 8/52 [Val]: 100%|██████████| 11/11 [00:49<00:00,  4.48s/it]\n"
     ]
    },
    {
     "name": "stdout",
     "output_type": "stream",
     "text": [
      "Epoch 8/52 - Train Loss: 1.0192, Val Loss: 1.1253, Val MAE: 1.3631\n"
     ]
    },
    {
     "name": "stderr",
     "output_type": "stream",
     "text": [
      "Epoch 9/52 [Train]: 100%|██████████| 83/83 [03:24<00:00,  2.47s/it, loss=0.3216]\n",
      "Epoch 9/52 [Val]: 100%|██████████| 11/11 [00:49<00:00,  4.47s/it]\n"
     ]
    },
    {
     "name": "stdout",
     "output_type": "stream",
     "text": [
      "Epoch 9/52 - Train Loss: 0.9638, Val Loss: 1.3128, Val MAE: 1.5604\n"
     ]
    },
    {
     "name": "stderr",
     "output_type": "stream",
     "text": [
      "Epoch 10/52 [Train]: 100%|██████████| 83/83 [03:27<00:00,  2.49s/it, loss=0.3723]\n",
      "Epoch 10/52 [Val]: 100%|██████████| 11/11 [00:49<00:00,  4.49s/it]\n"
     ]
    },
    {
     "name": "stdout",
     "output_type": "stream",
     "text": [
      "Epoch 10/52 - Train Loss: 0.9893, Val Loss: 1.2450, Val MAE: 1.4852\n"
     ]
    },
    {
     "name": "stderr",
     "output_type": "stream",
     "text": [
      "Epoch 11/52 [Train]: 100%|██████████| 83/83 [03:28<00:00,  2.51s/it, loss=0.8046]\n",
      "Epoch 11/52 [Val]: 100%|██████████| 11/11 [00:49<00:00,  4.52s/it]\n"
     ]
    },
    {
     "name": "stdout",
     "output_type": "stream",
     "text": [
      "Epoch 11/52 - Train Loss: 1.1033, Val Loss: 1.1933, Val MAE: 1.3955\n"
     ]
    },
    {
     "name": "stderr",
     "output_type": "stream",
     "text": [
      "Epoch 12/52 [Train]: 100%|██████████| 83/83 [03:27<00:00,  2.50s/it, loss=0.3162]\n",
      "Epoch 12/52 [Val]: 100%|██████████| 11/11 [00:49<00:00,  4.47s/it]\n"
     ]
    },
    {
     "name": "stdout",
     "output_type": "stream",
     "text": [
      "Epoch 12/52 - Train Loss: 1.1484, Val Loss: 1.2261, Val MAE: 1.4741\n"
     ]
    },
    {
     "name": "stderr",
     "output_type": "stream",
     "text": [
      "Epoch 13/52 [Train]: 100%|██████████| 83/83 [03:29<00:00,  2.52s/it, loss=0.2122]\n",
      "Epoch 13/52 [Val]: 100%|██████████| 11/11 [00:49<00:00,  4.48s/it]\n"
     ]
    },
    {
     "name": "stdout",
     "output_type": "stream",
     "text": [
      "Epoch 13/52 - Train Loss: 1.0679, Val Loss: 1.5293, Val MAE: 1.7856\n"
     ]
    },
    {
     "name": "stderr",
     "output_type": "stream",
     "text": [
      "Epoch 14/52 [Train]: 100%|██████████| 83/83 [03:26<00:00,  2.49s/it, loss=0.5882]\n",
      "Epoch 14/52 [Val]: 100%|██████████| 11/11 [00:49<00:00,  4.50s/it]\n"
     ]
    },
    {
     "name": "stdout",
     "output_type": "stream",
     "text": [
      "Epoch 14/52 - Train Loss: 1.1284, Val Loss: 1.8249, Val MAE: 2.1056\n"
     ]
    },
    {
     "name": "stderr",
     "output_type": "stream",
     "text": [
      "Epoch 15/52 [Train]: 100%|██████████| 83/83 [03:25<00:00,  2.48s/it, loss=0.4373]\n",
      "Epoch 15/52 [Val]: 100%|██████████| 11/11 [00:49<00:00,  4.48s/it]\n"
     ]
    },
    {
     "name": "stdout",
     "output_type": "stream",
     "text": [
      "Epoch 15/52 - Train Loss: 0.9515, Val Loss: 1.2286, Val MAE: 1.4409\n"
     ]
    },
    {
     "name": "stderr",
     "output_type": "stream",
     "text": [
      "Epoch 16/52 [Train]: 100%|██████████| 83/83 [03:27<00:00,  2.50s/it, loss=1.3125]\n",
      "Epoch 16/52 [Val]: 100%|██████████| 11/11 [00:49<00:00,  4.53s/it]\n"
     ]
    },
    {
     "name": "stdout",
     "output_type": "stream",
     "text": [
      "Epoch 16/52 - Train Loss: 0.9667, Val Loss: 1.1025, Val MAE: 1.3341\n"
     ]
    },
    {
     "name": "stderr",
     "output_type": "stream",
     "text": [
      "Epoch 17/52 [Train]: 100%|██████████| 83/83 [03:25<00:00,  2.48s/it, loss=0.4756]\n",
      "Epoch 17/52 [Val]: 100%|██████████| 11/11 [00:49<00:00,  4.50s/it]\n"
     ]
    },
    {
     "name": "stdout",
     "output_type": "stream",
     "text": [
      "Epoch 17/52 - Train Loss: 1.0433, Val Loss: 1.5060, Val MAE: 1.7469\n"
     ]
    },
    {
     "name": "stderr",
     "output_type": "stream",
     "text": [
      "Epoch 18/52 [Train]: 100%|██████████| 83/83 [03:26<00:00,  2.49s/it, loss=0.4071]\n",
      "Epoch 18/52 [Val]: 100%|██████████| 11/11 [00:49<00:00,  4.51s/it]\n"
     ]
    },
    {
     "name": "stdout",
     "output_type": "stream",
     "text": [
      "Epoch 18/52 - Train Loss: 0.9308, Val Loss: 0.9910, Val MAE: 1.2133\n",
      "Saved new best model to /kaggle/working/best_model_fold0.pth\n"
     ]
    },
    {
     "name": "stderr",
     "output_type": "stream",
     "text": [
      "Epoch 19/52 [Train]: 100%|██████████| 83/83 [03:26<00:00,  2.48s/it, loss=3.1019]\n",
      "Epoch 19/52 [Val]: 100%|██████████| 11/11 [00:49<00:00,  4.52s/it]\n"
     ]
    },
    {
     "name": "stdout",
     "output_type": "stream",
     "text": [
      "Epoch 19/52 - Train Loss: 0.7982, Val Loss: 1.0781, Val MAE: 1.2981\n"
     ]
    },
    {
     "name": "stderr",
     "output_type": "stream",
     "text": [
      "Epoch 20/52 [Train]: 100%|██████████| 83/83 [03:25<00:00,  2.48s/it, loss=1.0545]\n",
      "Epoch 20/52 [Val]: 100%|██████████| 11/11 [00:49<00:00,  4.51s/it]\n"
     ]
    },
    {
     "name": "stdout",
     "output_type": "stream",
     "text": [
      "Epoch 20/52 - Train Loss: 0.8268, Val Loss: 1.1439, Val MAE: 1.3693\n"
     ]
    },
    {
     "name": "stderr",
     "output_type": "stream",
     "text": [
      "Epoch 21/52 [Train]: 100%|██████████| 83/83 [03:25<00:00,  2.47s/it, loss=0.1160]\n",
      "Epoch 21/52 [Val]: 100%|██████████| 11/11 [00:49<00:00,  4.49s/it]\n"
     ]
    },
    {
     "name": "stdout",
     "output_type": "stream",
     "text": [
      "Epoch 21/52 - Train Loss: 0.7378, Val Loss: 1.2234, Val MAE: 1.4527\n"
     ]
    },
    {
     "name": "stderr",
     "output_type": "stream",
     "text": [
      "Epoch 22/52 [Train]: 100%|██████████| 83/83 [03:27<00:00,  2.50s/it, loss=0.2730]\n",
      "Epoch 22/52 [Val]: 100%|██████████| 11/11 [00:49<00:00,  4.49s/it]\n"
     ]
    },
    {
     "name": "stdout",
     "output_type": "stream",
     "text": [
      "Epoch 22/52 - Train Loss: 0.6680, Val Loss: 1.1651, Val MAE: 1.3910\n"
     ]
    },
    {
     "name": "stderr",
     "output_type": "stream",
     "text": [
      "Epoch 23/52 [Train]: 100%|██████████| 83/83 [03:29<00:00,  2.53s/it, loss=0.9738]\n",
      "Epoch 23/52 [Val]: 100%|██████████| 11/11 [00:49<00:00,  4.54s/it]\n"
     ]
    },
    {
     "name": "stdout",
     "output_type": "stream",
     "text": [
      "Epoch 23/52 - Train Loss: 0.6640, Val Loss: 1.0565, Val MAE: 1.2911\n"
     ]
    },
    {
     "name": "stderr",
     "output_type": "stream",
     "text": [
      "Epoch 24/52 [Train]: 100%|██████████| 83/83 [03:28<00:00,  2.51s/it, loss=0.3012]\n",
      "Epoch 24/52 [Val]: 100%|██████████| 11/11 [00:49<00:00,  4.54s/it]\n"
     ]
    },
    {
     "name": "stdout",
     "output_type": "stream",
     "text": [
      "Epoch 24/52 - Train Loss: 0.6627, Val Loss: 1.0674, Val MAE: 1.2952\n"
     ]
    },
    {
     "name": "stderr",
     "output_type": "stream",
     "text": [
      "Epoch 25/52 [Train]: 100%|██████████| 83/83 [03:27<00:00,  2.50s/it, loss=0.9933]\n",
      "Epoch 25/52 [Val]: 100%|██████████| 11/11 [00:50<00:00,  4.55s/it]\n"
     ]
    },
    {
     "name": "stdout",
     "output_type": "stream",
     "text": [
      "Epoch 25/52 - Train Loss: 0.6299, Val Loss: 1.2447, Val MAE: 1.4674\n"
     ]
    },
    {
     "name": "stderr",
     "output_type": "stream",
     "text": [
      "Epoch 26/52 [Train]: 100%|██████████| 83/83 [03:27<00:00,  2.49s/it, loss=0.1751]\n",
      "Epoch 26/52 [Val]: 100%|██████████| 11/11 [00:49<00:00,  4.52s/it]\n"
     ]
    },
    {
     "name": "stdout",
     "output_type": "stream",
     "text": [
      "Epoch 26/52 - Train Loss: 0.5840, Val Loss: 1.1441, Val MAE: 1.3723\n"
     ]
    },
    {
     "name": "stderr",
     "output_type": "stream",
     "text": [
      "Epoch 27/52 [Train]: 100%|██████████| 83/83 [03:29<00:00,  2.52s/it, loss=0.1746]\n",
      "Epoch 27/52 [Val]: 100%|██████████| 11/11 [00:49<00:00,  4.48s/it]\n"
     ]
    },
    {
     "name": "stdout",
     "output_type": "stream",
     "text": [
      "Epoch 27/52 - Train Loss: 0.5291, Val Loss: 1.0796, Val MAE: 1.3124\n"
     ]
    },
    {
     "name": "stderr",
     "output_type": "stream",
     "text": [
      "Epoch 28/52 [Train]: 100%|██████████| 83/83 [03:26<00:00,  2.49s/it, loss=0.1746]\n",
      "Epoch 28/52 [Val]: 100%|██████████| 11/11 [00:49<00:00,  4.49s/it]\n"
     ]
    },
    {
     "name": "stdout",
     "output_type": "stream",
     "text": [
      "Epoch 28/52 - Train Loss: 0.5751, Val Loss: 1.0668, Val MAE: 1.2957\n"
     ]
    },
    {
     "name": "stderr",
     "output_type": "stream",
     "text": [
      "Epoch 29/52 [Train]: 100%|██████████| 83/83 [03:25<00:00,  2.47s/it, loss=0.1718]\n",
      "Epoch 29/52 [Val]: 100%|██████████| 11/11 [00:49<00:00,  4.46s/it]\n"
     ]
    },
    {
     "name": "stdout",
     "output_type": "stream",
     "text": [
      "Epoch 29/52 - Train Loss: 0.5273, Val Loss: 1.0066, Val MAE: 1.2307\n"
     ]
    },
    {
     "name": "stderr",
     "output_type": "stream",
     "text": [
      "Epoch 30/52 [Train]: 100%|██████████| 83/83 [03:28<00:00,  2.52s/it, loss=1.1589]\n",
      "Epoch 30/52 [Val]: 100%|██████████| 11/11 [00:50<00:00,  4.62s/it]\n"
     ]
    },
    {
     "name": "stdout",
     "output_type": "stream",
     "text": [
      "Epoch 30/52 - Train Loss: 0.5168, Val Loss: 1.0553, Val MAE: 1.2797\n"
     ]
    },
    {
     "name": "stderr",
     "output_type": "stream",
     "text": [
      "Epoch 31/52 [Train]: 100%|██████████| 83/83 [03:29<00:00,  2.52s/it, loss=0.4095]\n",
      "Epoch 31/52 [Val]: 100%|██████████| 11/11 [00:49<00:00,  4.52s/it]\n"
     ]
    },
    {
     "name": "stdout",
     "output_type": "stream",
     "text": [
      "Epoch 31/52 - Train Loss: 0.7600, Val Loss: 1.0081, Val MAE: 1.2497\n"
     ]
    },
    {
     "name": "stderr",
     "output_type": "stream",
     "text": [
      "Epoch 32/52 [Train]: 100%|██████████| 83/83 [03:24<00:00,  2.47s/it, loss=0.6186]\n",
      "Epoch 32/52 [Val]: 100%|██████████| 11/11 [00:49<00:00,  4.53s/it]\n"
     ]
    },
    {
     "name": "stdout",
     "output_type": "stream",
     "text": [
      "Epoch 32/52 - Train Loss: 0.7482, Val Loss: 1.1538, Val MAE: 1.3938\n"
     ]
    },
    {
     "name": "stderr",
     "output_type": "stream",
     "text": [
      "Epoch 33/52 [Train]: 100%|██████████| 83/83 [03:27<00:00,  2.50s/it, loss=0.7839]\n",
      "Epoch 33/52 [Val]: 100%|██████████| 11/11 [00:50<00:00,  4.62s/it]\n"
     ]
    },
    {
     "name": "stdout",
     "output_type": "stream",
     "text": [
      "Epoch 33/52 - Train Loss: 0.7294, Val Loss: 1.0516, Val MAE: 1.2765\n"
     ]
    },
    {
     "name": "stderr",
     "output_type": "stream",
     "text": [
      "Epoch 34/52 [Train]: 100%|██████████| 83/83 [03:27<00:00,  2.51s/it, loss=0.3020]\n",
      "Epoch 34/52 [Val]: 100%|██████████| 11/11 [00:51<00:00,  4.68s/it]\n"
     ]
    },
    {
     "name": "stdout",
     "output_type": "stream",
     "text": [
      "Epoch 34/52 - Train Loss: 0.7090, Val Loss: 1.4688, Val MAE: 1.6994\n"
     ]
    },
    {
     "name": "stderr",
     "output_type": "stream",
     "text": [
      "Epoch 35/52 [Train]: 100%|██████████| 83/83 [03:27<00:00,  2.50s/it, loss=1.3133]\n",
      "Epoch 35/52 [Val]: 100%|██████████| 11/11 [00:49<00:00,  4.54s/it]\n"
     ]
    },
    {
     "name": "stdout",
     "output_type": "stream",
     "text": [
      "Epoch 35/52 - Train Loss: 0.7168, Val Loss: 1.0447, Val MAE: 1.2881\n"
     ]
    },
    {
     "name": "stderr",
     "output_type": "stream",
     "text": [
      "Epoch 36/52 [Train]: 100%|██████████| 83/83 [03:24<00:00,  2.46s/it, loss=0.2412]\n",
      "Epoch 36/52 [Val]: 100%|██████████| 11/11 [00:50<00:00,  4.56s/it]\n"
     ]
    },
    {
     "name": "stdout",
     "output_type": "stream",
     "text": [
      "Epoch 36/52 - Train Loss: 0.6948, Val Loss: 1.2111, Val MAE: 1.4417\n"
     ]
    },
    {
     "name": "stderr",
     "output_type": "stream",
     "text": [
      "Epoch 37/52 [Train]: 100%|██████████| 83/83 [03:27<00:00,  2.50s/it, loss=0.8311]\n",
      "Epoch 37/52 [Val]: 100%|██████████| 11/11 [00:50<00:00,  4.60s/it]\n"
     ]
    },
    {
     "name": "stdout",
     "output_type": "stream",
     "text": [
      "Epoch 37/52 - Train Loss: 0.6175, Val Loss: 1.0388, Val MAE: 1.2617\n"
     ]
    },
    {
     "name": "stderr",
     "output_type": "stream",
     "text": [
      "Epoch 38/52 [Train]: 100%|██████████| 83/83 [03:25<00:00,  2.48s/it, loss=0.2420]\n",
      "Epoch 38/52 [Val]: 100%|██████████| 11/11 [00:49<00:00,  4.50s/it]\n"
     ]
    },
    {
     "name": "stdout",
     "output_type": "stream",
     "text": [
      "Epoch 38/52 - Train Loss: 0.7031, Val Loss: 1.0694, Val MAE: 1.3106\n"
     ]
    },
    {
     "name": "stderr",
     "output_type": "stream",
     "text": [
      "Epoch 39/52 [Train]: 100%|██████████| 83/83 [03:25<00:00,  2.48s/it, loss=0.5750]\n",
      "Epoch 39/52 [Val]: 100%|██████████| 11/11 [00:50<00:00,  4.56s/it]\n"
     ]
    },
    {
     "name": "stdout",
     "output_type": "stream",
     "text": [
      "Epoch 39/52 - Train Loss: 0.6413, Val Loss: 1.1340, Val MAE: 1.3773\n"
     ]
    },
    {
     "name": "stderr",
     "output_type": "stream",
     "text": [
      "Epoch 40/52 [Train]: 100%|██████████| 83/83 [03:24<00:00,  2.47s/it, loss=0.2698]\n",
      "Epoch 40/52 [Val]: 100%|██████████| 11/11 [00:49<00:00,  4.49s/it]\n"
     ]
    },
    {
     "name": "stdout",
     "output_type": "stream",
     "text": [
      "Epoch 40/52 - Train Loss: 0.6644, Val Loss: 1.1812, Val MAE: 1.4219\n"
     ]
    },
    {
     "name": "stderr",
     "output_type": "stream",
     "text": [
      "Epoch 41/52 [Train]: 100%|██████████| 83/83 [03:26<00:00,  2.48s/it, loss=0.3373]\n",
      "Epoch 41/52 [Val]: 100%|██████████| 11/11 [00:49<00:00,  4.52s/it]\n"
     ]
    },
    {
     "name": "stdout",
     "output_type": "stream",
     "text": [
      "Epoch 41/52 - Train Loss: 0.6063, Val Loss: 1.2519, Val MAE: 1.5006\n"
     ]
    },
    {
     "name": "stderr",
     "output_type": "stream",
     "text": [
      "Epoch 42/52 [Train]: 100%|██████████| 83/83 [03:28<00:00,  2.51s/it, loss=0.0607]\n",
      "Epoch 42/52 [Val]: 100%|██████████| 11/11 [00:49<00:00,  4.53s/it]\n"
     ]
    },
    {
     "name": "stdout",
     "output_type": "stream",
     "text": [
      "Epoch 42/52 - Train Loss: 0.5640, Val Loss: 1.0743, Val MAE: 1.3147\n"
     ]
    },
    {
     "name": "stderr",
     "output_type": "stream",
     "text": [
      "Epoch 43/52 [Train]: 100%|██████████| 83/83 [03:28<00:00,  2.51s/it, loss=0.1440]\n",
      "Epoch 43/52 [Val]: 100%|██████████| 11/11 [00:49<00:00,  4.51s/it]\n"
     ]
    },
    {
     "name": "stdout",
     "output_type": "stream",
     "text": [
      "Epoch 43/52 - Train Loss: 0.5327, Val Loss: 1.1738, Val MAE: 1.4037\n"
     ]
    },
    {
     "name": "stderr",
     "output_type": "stream",
     "text": [
      "Epoch 44/52 [Train]: 100%|██████████| 83/83 [03:27<00:00,  2.51s/it, loss=0.0877]\n",
      "Epoch 44/52 [Val]: 100%|██████████| 11/11 [00:49<00:00,  4.48s/it]\n"
     ]
    },
    {
     "name": "stdout",
     "output_type": "stream",
     "text": [
      "Epoch 44/52 - Train Loss: 0.5202, Val Loss: 1.1486, Val MAE: 1.3942\n"
     ]
    },
    {
     "name": "stderr",
     "output_type": "stream",
     "text": [
      "Epoch 45/52 [Train]: 100%|██████████| 83/83 [03:26<00:00,  2.49s/it, loss=0.3019]\n",
      "Epoch 45/52 [Val]: 100%|██████████| 11/11 [00:49<00:00,  4.48s/it]\n"
     ]
    },
    {
     "name": "stdout",
     "output_type": "stream",
     "text": [
      "Epoch 45/52 - Train Loss: 0.5369, Val Loss: 1.1798, Val MAE: 1.4148\n"
     ]
    },
    {
     "name": "stderr",
     "output_type": "stream",
     "text": [
      "Epoch 46/52 [Train]: 100%|██████████| 83/83 [03:30<00:00,  2.53s/it, loss=0.3552]\n",
      "Epoch 46/52 [Val]: 100%|██████████| 11/11 [00:49<00:00,  4.52s/it]\n"
     ]
    },
    {
     "name": "stdout",
     "output_type": "stream",
     "text": [
      "Epoch 46/52 - Train Loss: 0.5069, Val Loss: 1.1447, Val MAE: 1.3779\n"
     ]
    },
    {
     "name": "stderr",
     "output_type": "stream",
     "text": [
      "Epoch 47/52 [Train]: 100%|██████████| 83/83 [03:29<00:00,  2.52s/it, loss=0.3979]\n",
      "Epoch 47/52 [Val]: 100%|██████████| 11/11 [00:49<00:00,  4.52s/it]\n"
     ]
    },
    {
     "name": "stdout",
     "output_type": "stream",
     "text": [
      "Epoch 47/52 - Train Loss: 0.5229, Val Loss: 1.1611, Val MAE: 1.3954\n"
     ]
    },
    {
     "name": "stderr",
     "output_type": "stream",
     "text": [
      "Epoch 48/52 [Train]: 100%|██████████| 83/83 [03:28<00:00,  2.51s/it, loss=2.4404]\n",
      "Epoch 48/52 [Val]: 100%|██████████| 11/11 [00:49<00:00,  4.54s/it]\n"
     ]
    },
    {
     "name": "stdout",
     "output_type": "stream",
     "text": [
      "Epoch 48/52 - Train Loss: 0.5575, Val Loss: 1.2359, Val MAE: 1.4816\n"
     ]
    },
    {
     "name": "stderr",
     "output_type": "stream",
     "text": [
      "Epoch 49/52 [Train]: 100%|██████████| 83/83 [03:29<00:00,  2.52s/it, loss=0.0988]\n",
      "Epoch 49/52 [Val]: 100%|██████████| 11/11 [00:50<00:00,  4.57s/it]\n"
     ]
    },
    {
     "name": "stdout",
     "output_type": "stream",
     "text": [
      "Epoch 49/52 - Train Loss: 0.5137, Val Loss: 1.3351, Val MAE: 1.5850\n"
     ]
    },
    {
     "name": "stderr",
     "output_type": "stream",
     "text": [
      "Epoch 50/52 [Train]: 100%|██████████| 83/83 [03:27<00:00,  2.50s/it, loss=0.5035]\n",
      "Epoch 50/52 [Val]: 100%|██████████| 11/11 [00:49<00:00,  4.48s/it]\n"
     ]
    },
    {
     "name": "stdout",
     "output_type": "stream",
     "text": [
      "Epoch 50/52 - Train Loss: 0.4351, Val Loss: 1.2189, Val MAE: 1.4531\n"
     ]
    },
    {
     "name": "stderr",
     "output_type": "stream",
     "text": [
      "Epoch 51/52 [Train]: 100%|██████████| 83/83 [03:27<00:00,  2.50s/it, loss=0.2703]\n",
      "Epoch 51/52 [Val]: 100%|██████████| 11/11 [00:49<00:00,  4.47s/it]\n"
     ]
    },
    {
     "name": "stdout",
     "output_type": "stream",
     "text": [
      "Epoch 51/52 - Train Loss: 0.4255, Val Loss: 1.1199, Val MAE: 1.3540\n"
     ]
    },
    {
     "name": "stderr",
     "output_type": "stream",
     "text": [
      "Epoch 52/52 [Train]: 100%|██████████| 83/83 [03:25<00:00,  2.47s/it, loss=2.3556]\n",
      "Epoch 52/52 [Val]: 100%|██████████| 11/11 [00:49<00:00,  4.47s/it]\n"
     ]
    },
    {
     "name": "stdout",
     "output_type": "stream",
     "text": [
      "Epoch 52/52 - Train Loss: 0.4460, Val Loss: 1.0516, Val MAE: 1.2728\n",
      "Training fold 2/3\n",
      "Starting training for fold 2\n"
     ]
    },
    {
     "name": "stderr",
     "output_type": "stream",
     "text": [
      "Epoch 1/52 [Train]: 100%|██████████| 83/83 [03:27<00:00,  2.50s/it, loss=0.6964]\n",
      "Epoch 1/52 [Val]: 100%|██████████| 11/11 [00:47<00:00,  4.29s/it]\n"
     ]
    },
    {
     "name": "stdout",
     "output_type": "stream",
     "text": [
      "Epoch 1/52 - Train Loss: 2.0624, Val Loss: 1.9128, Val MAE: 2.2389\n",
      "Saved new best model to /kaggle/working/best_model_fold1.pth\n"
     ]
    },
    {
     "name": "stderr",
     "output_type": "stream",
     "text": [
      "Epoch 2/52 [Train]: 100%|██████████| 83/83 [03:28<00:00,  2.51s/it, loss=1.3894]\n",
      "Epoch 2/52 [Val]: 100%|██████████| 11/11 [00:47<00:00,  4.31s/it]\n"
     ]
    },
    {
     "name": "stdout",
     "output_type": "stream",
     "text": [
      "Epoch 2/52 - Train Loss: 1.7048, Val Loss: 1.8747, Val MAE: 2.1992\n",
      "Saved new best model to /kaggle/working/best_model_fold1.pth\n"
     ]
    },
    {
     "name": "stderr",
     "output_type": "stream",
     "text": [
      "Epoch 3/52 [Train]: 100%|██████████| 83/83 [03:28<00:00,  2.51s/it, loss=0.5415]\n",
      "Epoch 3/52 [Val]: 100%|██████████| 11/11 [00:48<00:00,  4.38s/it]\n"
     ]
    },
    {
     "name": "stdout",
     "output_type": "stream",
     "text": [
      "Epoch 3/52 - Train Loss: 1.5179, Val Loss: 1.6832, Val MAE: 1.9922\n",
      "Saved new best model to /kaggle/working/best_model_fold1.pth\n"
     ]
    },
    {
     "name": "stderr",
     "output_type": "stream",
     "text": [
      "Epoch 4/52 [Train]: 100%|██████████| 83/83 [03:28<00:00,  2.51s/it, loss=0.4655]\n",
      "Epoch 4/52 [Val]: 100%|██████████| 11/11 [00:47<00:00,  4.33s/it]\n"
     ]
    },
    {
     "name": "stdout",
     "output_type": "stream",
     "text": [
      "Epoch 4/52 - Train Loss: 1.3527, Val Loss: 1.3777, Val MAE: 1.6754\n",
      "Saved new best model to /kaggle/working/best_model_fold1.pth\n"
     ]
    },
    {
     "name": "stderr",
     "output_type": "stream",
     "text": [
      "Epoch 5/52 [Train]: 100%|██████████| 83/83 [03:29<00:00,  2.53s/it, loss=0.2123]\n",
      "Epoch 5/52 [Val]: 100%|██████████| 11/11 [00:48<00:00,  4.37s/it]\n"
     ]
    },
    {
     "name": "stdout",
     "output_type": "stream",
     "text": [
      "Epoch 5/52 - Train Loss: 1.2624, Val Loss: 1.3226, Val MAE: 1.6008\n",
      "Saved new best model to /kaggle/working/best_model_fold1.pth\n"
     ]
    },
    {
     "name": "stderr",
     "output_type": "stream",
     "text": [
      "Epoch 6/52 [Train]: 100%|██████████| 83/83 [03:29<00:00,  2.53s/it, loss=2.7536]\n",
      "Epoch 6/52 [Val]: 100%|██████████| 11/11 [00:49<00:00,  4.46s/it]\n"
     ]
    },
    {
     "name": "stdout",
     "output_type": "stream",
     "text": [
      "Epoch 6/52 - Train Loss: 1.1370, Val Loss: 1.4672, Val MAE: 1.7648\n"
     ]
    },
    {
     "name": "stderr",
     "output_type": "stream",
     "text": [
      "Epoch 7/52 [Train]: 100%|██████████| 83/83 [03:28<00:00,  2.51s/it, loss=0.3555]\n",
      "Epoch 7/52 [Val]: 100%|██████████| 11/11 [00:47<00:00,  4.33s/it]\n"
     ]
    },
    {
     "name": "stdout",
     "output_type": "stream",
     "text": [
      "Epoch 7/52 - Train Loss: 1.1306, Val Loss: 1.2315, Val MAE: 1.5092\n",
      "Saved new best model to /kaggle/working/best_model_fold1.pth\n"
     ]
    },
    {
     "name": "stderr",
     "output_type": "stream",
     "text": [
      "Epoch 8/52 [Train]: 100%|██████████| 83/83 [03:29<00:00,  2.52s/it, loss=0.2552]\n",
      "Epoch 8/52 [Val]: 100%|██████████| 11/11 [00:47<00:00,  4.36s/it]\n"
     ]
    },
    {
     "name": "stdout",
     "output_type": "stream",
     "text": [
      "Epoch 8/52 - Train Loss: 0.9872, Val Loss: 1.2864, Val MAE: 1.5579\n"
     ]
    },
    {
     "name": "stderr",
     "output_type": "stream",
     "text": [
      "Epoch 9/52 [Train]: 100%|██████████| 83/83 [03:30<00:00,  2.54s/it, loss=5.3680]\n",
      "Epoch 9/52 [Val]: 100%|██████████| 11/11 [00:48<00:00,  4.45s/it]\n"
     ]
    },
    {
     "name": "stdout",
     "output_type": "stream",
     "text": [
      "Epoch 9/52 - Train Loss: 0.9712, Val Loss: 1.2628, Val MAE: 1.5415\n"
     ]
    },
    {
     "name": "stderr",
     "output_type": "stream",
     "text": [
      "Epoch 10/52 [Train]: 100%|██████████| 83/83 [03:30<00:00,  2.54s/it, loss=0.7359]\n",
      "Epoch 10/52 [Val]: 100%|██████████| 11/11 [00:49<00:00,  4.50s/it]\n"
     ]
    },
    {
     "name": "stdout",
     "output_type": "stream",
     "text": [
      "Epoch 10/52 - Train Loss: 0.9009, Val Loss: 1.3051, Val MAE: 1.5855\n"
     ]
    },
    {
     "name": "stderr",
     "output_type": "stream",
     "text": [
      "Epoch 11/52 [Train]: 100%|██████████| 83/83 [03:31<00:00,  2.54s/it, loss=0.3115]\n",
      "Epoch 11/52 [Val]: 100%|██████████| 11/11 [00:49<00:00,  4.47s/it]\n"
     ]
    },
    {
     "name": "stdout",
     "output_type": "stream",
     "text": [
      "Epoch 11/52 - Train Loss: 1.2184, Val Loss: 1.3013, Val MAE: 1.5784\n"
     ]
    },
    {
     "name": "stderr",
     "output_type": "stream",
     "text": [
      "Epoch 12/52 [Train]: 100%|██████████| 83/83 [03:32<00:00,  2.57s/it, loss=0.6824]\n",
      "Epoch 12/52 [Val]: 100%|██████████| 11/11 [00:49<00:00,  4.49s/it]\n"
     ]
    },
    {
     "name": "stdout",
     "output_type": "stream",
     "text": [
      "Epoch 12/52 - Train Loss: 1.1182, Val Loss: 1.3492, Val MAE: 1.6257\n"
     ]
    },
    {
     "name": "stderr",
     "output_type": "stream",
     "text": [
      "Epoch 13/52 [Train]: 100%|██████████| 83/83 [03:34<00:00,  2.58s/it, loss=0.4106]\n",
      "Epoch 13/52 [Val]: 100%|██████████| 11/11 [00:48<00:00,  4.44s/it]\n"
     ]
    },
    {
     "name": "stdout",
     "output_type": "stream",
     "text": [
      "Epoch 13/52 - Train Loss: 1.0523, Val Loss: 1.6131, Val MAE: 1.8887\n"
     ]
    },
    {
     "name": "stderr",
     "output_type": "stream",
     "text": [
      "Epoch 14/52 [Train]: 100%|██████████| 83/83 [03:32<00:00,  2.56s/it, loss=0.9158]\n",
      "Epoch 14/52 [Val]: 100%|██████████| 11/11 [00:49<00:00,  4.48s/it]\n"
     ]
    },
    {
     "name": "stdout",
     "output_type": "stream",
     "text": [
      "Epoch 14/52 - Train Loss: 1.1322, Val Loss: 1.3848, Val MAE: 1.6847\n"
     ]
    },
    {
     "name": "stderr",
     "output_type": "stream",
     "text": [
      "Epoch 15/52 [Train]: 100%|██████████| 83/83 [03:34<00:00,  2.59s/it, loss=0.1856]\n",
      "Epoch 15/52 [Val]: 100%|██████████| 11/11 [00:49<00:00,  4.52s/it]\n"
     ]
    },
    {
     "name": "stdout",
     "output_type": "stream",
     "text": [
      "Epoch 15/52 - Train Loss: 0.9883, Val Loss: 1.2212, Val MAE: 1.4781\n",
      "Saved new best model to /kaggle/working/best_model_fold1.pth\n"
     ]
    },
    {
     "name": "stderr",
     "output_type": "stream",
     "text": [
      "Epoch 16/52 [Train]: 100%|██████████| 83/83 [03:31<00:00,  2.55s/it, loss=0.2807]\n",
      "Epoch 16/52 [Val]: 100%|██████████| 11/11 [00:48<00:00,  4.45s/it]\n"
     ]
    },
    {
     "name": "stdout",
     "output_type": "stream",
     "text": [
      "Epoch 16/52 - Train Loss: 0.8748, Val Loss: 1.4085, Val MAE: 1.6957\n"
     ]
    },
    {
     "name": "stderr",
     "output_type": "stream",
     "text": [
      "Epoch 17/52 [Train]: 100%|██████████| 83/83 [03:32<00:00,  2.56s/it, loss=0.5368]\n",
      "Epoch 17/52 [Val]: 100%|██████████| 11/11 [00:48<00:00,  4.41s/it]\n"
     ]
    },
    {
     "name": "stdout",
     "output_type": "stream",
     "text": [
      "Epoch 17/52 - Train Loss: 0.9748, Val Loss: 1.7337, Val MAE: 2.0162\n"
     ]
    },
    {
     "name": "stderr",
     "output_type": "stream",
     "text": [
      "Epoch 18/52 [Train]: 100%|██████████| 83/83 [03:34<00:00,  2.59s/it, loss=0.4296]\n",
      "Epoch 18/52 [Val]: 100%|██████████| 11/11 [00:49<00:00,  4.49s/it]\n"
     ]
    },
    {
     "name": "stdout",
     "output_type": "stream",
     "text": [
      "Epoch 18/52 - Train Loss: 0.9325, Val Loss: 1.4946, Val MAE: 1.7735\n"
     ]
    },
    {
     "name": "stderr",
     "output_type": "stream",
     "text": [
      "Epoch 19/52 [Train]: 100%|██████████| 83/83 [03:33<00:00,  2.58s/it, loss=0.3973]\n",
      "Epoch 19/52 [Val]: 100%|██████████| 11/11 [00:48<00:00,  4.39s/it]\n"
     ]
    },
    {
     "name": "stdout",
     "output_type": "stream",
     "text": [
      "Epoch 19/52 - Train Loss: 0.7686, Val Loss: 1.2000, Val MAE: 1.4729\n",
      "Saved new best model to /kaggle/working/best_model_fold1.pth\n"
     ]
    },
    {
     "name": "stderr",
     "output_type": "stream",
     "text": [
      "Epoch 20/52 [Train]: 100%|██████████| 83/83 [03:32<00:00,  2.56s/it, loss=1.3223]\n",
      "Epoch 20/52 [Val]: 100%|██████████| 11/11 [00:49<00:00,  4.50s/it]\n"
     ]
    },
    {
     "name": "stdout",
     "output_type": "stream",
     "text": [
      "Epoch 20/52 - Train Loss: 0.8058, Val Loss: 1.4064, Val MAE: 1.6782\n"
     ]
    },
    {
     "name": "stderr",
     "output_type": "stream",
     "text": [
      "Epoch 21/52 [Train]: 100%|██████████| 83/83 [03:31<00:00,  2.55s/it, loss=0.3090]\n",
      "Epoch 21/52 [Val]: 100%|██████████| 11/11 [00:50<00:00,  4.59s/it]\n"
     ]
    },
    {
     "name": "stdout",
     "output_type": "stream",
     "text": [
      "Epoch 21/52 - Train Loss: 0.6840, Val Loss: 1.2166, Val MAE: 1.4841\n"
     ]
    },
    {
     "name": "stderr",
     "output_type": "stream",
     "text": [
      "Epoch 22/52 [Train]: 100%|██████████| 83/83 [03:31<00:00,  2.55s/it, loss=0.1238]\n",
      "Epoch 22/52 [Val]: 100%|██████████| 11/11 [00:48<00:00,  4.41s/it]\n"
     ]
    },
    {
     "name": "stdout",
     "output_type": "stream",
     "text": [
      "Epoch 22/52 - Train Loss: 0.7248, Val Loss: 1.2141, Val MAE: 1.4751\n"
     ]
    },
    {
     "name": "stderr",
     "output_type": "stream",
     "text": [
      "Epoch 23/52 [Train]: 100%|██████████| 83/83 [03:31<00:00,  2.54s/it, loss=1.5322]\n",
      "Epoch 23/52 [Val]: 100%|██████████| 11/11 [00:48<00:00,  4.40s/it]\n"
     ]
    },
    {
     "name": "stdout",
     "output_type": "stream",
     "text": [
      "Epoch 23/52 - Train Loss: 0.6815, Val Loss: 1.3886, Val MAE: 1.6616\n"
     ]
    },
    {
     "name": "stderr",
     "output_type": "stream",
     "text": [
      "Epoch 24/52 [Train]: 100%|██████████| 83/83 [03:33<00:00,  2.57s/it, loss=0.1750]\n",
      "Epoch 24/52 [Val]: 100%|██████████| 11/11 [00:49<00:00,  4.46s/it]\n"
     ]
    },
    {
     "name": "stdout",
     "output_type": "stream",
     "text": [
      "Epoch 24/52 - Train Loss: 0.5980, Val Loss: 1.1882, Val MAE: 1.4428\n",
      "Saved new best model to /kaggle/working/best_model_fold1.pth\n"
     ]
    },
    {
     "name": "stderr",
     "output_type": "stream",
     "text": [
      "Epoch 25/52 [Train]: 100%|██████████| 83/83 [03:31<00:00,  2.55s/it, loss=0.3475]\n",
      "Epoch 25/52 [Val]: 100%|██████████| 11/11 [00:48<00:00,  4.37s/it]\n"
     ]
    },
    {
     "name": "stdout",
     "output_type": "stream",
     "text": [
      "Epoch 25/52 - Train Loss: 0.5870, Val Loss: 1.1652, Val MAE: 1.4219\n",
      "Saved new best model to /kaggle/working/best_model_fold1.pth\n"
     ]
    },
    {
     "name": "stderr",
     "output_type": "stream",
     "text": [
      "Epoch 26/52 [Train]: 100%|██████████| 83/83 [03:29<00:00,  2.52s/it, loss=0.2839]\n",
      "Epoch 26/52 [Val]: 100%|██████████| 11/11 [00:47<00:00,  4.36s/it]\n"
     ]
    },
    {
     "name": "stdout",
     "output_type": "stream",
     "text": [
      "Epoch 26/52 - Train Loss: 0.5466, Val Loss: 1.2799, Val MAE: 1.5466\n"
     ]
    },
    {
     "name": "stderr",
     "output_type": "stream",
     "text": [
      "Epoch 27/52 [Train]: 100%|██████████| 83/83 [03:28<00:00,  2.52s/it, loss=0.6887]\n",
      "Epoch 27/52 [Val]: 100%|██████████| 11/11 [00:48<00:00,  4.41s/it]\n"
     ]
    },
    {
     "name": "stdout",
     "output_type": "stream",
     "text": [
      "Epoch 27/52 - Train Loss: 0.5441, Val Loss: 1.2794, Val MAE: 1.5405\n"
     ]
    },
    {
     "name": "stderr",
     "output_type": "stream",
     "text": [
      "Epoch 28/52 [Train]: 100%|██████████| 83/83 [03:32<00:00,  2.56s/it, loss=0.7325]\n",
      "Epoch 28/52 [Val]: 100%|██████████| 11/11 [00:49<00:00,  4.47s/it]\n"
     ]
    },
    {
     "name": "stdout",
     "output_type": "stream",
     "text": [
      "Epoch 28/52 - Train Loss: 0.5446, Val Loss: 1.1959, Val MAE: 1.4561\n"
     ]
    },
    {
     "name": "stderr",
     "output_type": "stream",
     "text": [
      "Epoch 29/52 [Train]: 100%|██████████| 83/83 [03:33<00:00,  2.58s/it, loss=0.5558]\n",
      "Epoch 29/52 [Val]: 100%|██████████| 11/11 [00:49<00:00,  4.46s/it]\n"
     ]
    },
    {
     "name": "stdout",
     "output_type": "stream",
     "text": [
      "Epoch 29/52 - Train Loss: 0.5022, Val Loss: 1.1805, Val MAE: 1.4386\n"
     ]
    },
    {
     "name": "stderr",
     "output_type": "stream",
     "text": [
      "Epoch 30/52 [Train]: 100%|██████████| 83/83 [03:33<00:00,  2.58s/it, loss=0.3001]\n",
      "Epoch 30/52 [Val]: 100%|██████████| 11/11 [00:49<00:00,  4.49s/it]\n"
     ]
    },
    {
     "name": "stdout",
     "output_type": "stream",
     "text": [
      "Epoch 30/52 - Train Loss: 0.5087, Val Loss: 1.1833, Val MAE: 1.4432\n"
     ]
    },
    {
     "name": "stderr",
     "output_type": "stream",
     "text": [
      "Epoch 31/52 [Train]: 100%|██████████| 83/83 [03:32<00:00,  2.56s/it, loss=1.5567]\n",
      "Epoch 31/52 [Val]: 100%|██████████| 11/11 [00:48<00:00,  4.45s/it]\n"
     ]
    },
    {
     "name": "stdout",
     "output_type": "stream",
     "text": [
      "Epoch 31/52 - Train Loss: 0.6759, Val Loss: 1.1047, Val MAE: 1.3583\n",
      "Saved new best model to /kaggle/working/best_model_fold1.pth\n"
     ]
    },
    {
     "name": "stderr",
     "output_type": "stream",
     "text": [
      "Epoch 32/52 [Train]: 100%|██████████| 83/83 [03:31<00:00,  2.55s/it, loss=0.4395]\n",
      "Epoch 32/52 [Val]: 100%|██████████| 11/11 [00:48<00:00,  4.42s/it]\n"
     ]
    },
    {
     "name": "stdout",
     "output_type": "stream",
     "text": [
      "Epoch 32/52 - Train Loss: 0.7071, Val Loss: 1.6674, Val MAE: 1.9481\n"
     ]
    },
    {
     "name": "stderr",
     "output_type": "stream",
     "text": [
      "Epoch 33/52 [Train]: 100%|██████████| 83/83 [03:31<00:00,  2.54s/it, loss=0.1939]\n",
      "Epoch 33/52 [Val]: 100%|██████████| 11/11 [00:48<00:00,  4.39s/it]\n"
     ]
    },
    {
     "name": "stdout",
     "output_type": "stream",
     "text": [
      "Epoch 33/52 - Train Loss: 0.7724, Val Loss: 1.1741, Val MAE: 1.4240\n"
     ]
    },
    {
     "name": "stderr",
     "output_type": "stream",
     "text": [
      "Epoch 34/52 [Train]: 100%|██████████| 83/83 [03:33<00:00,  2.57s/it, loss=0.1910]\n",
      "Epoch 34/52 [Val]: 100%|██████████| 11/11 [00:49<00:00,  4.49s/it]\n"
     ]
    },
    {
     "name": "stdout",
     "output_type": "stream",
     "text": [
      "Epoch 34/52 - Train Loss: 0.7405, Val Loss: 1.2216, Val MAE: 1.4771\n"
     ]
    },
    {
     "name": "stderr",
     "output_type": "stream",
     "text": [
      "Epoch 35/52 [Train]: 100%|██████████| 83/83 [03:31<00:00,  2.55s/it, loss=0.4756]\n",
      "Epoch 35/52 [Val]: 100%|██████████| 11/11 [00:48<00:00,  4.41s/it]\n"
     ]
    },
    {
     "name": "stdout",
     "output_type": "stream",
     "text": [
      "Epoch 35/52 - Train Loss: 0.7470, Val Loss: 1.4977, Val MAE: 1.7664\n"
     ]
    },
    {
     "name": "stderr",
     "output_type": "stream",
     "text": [
      "Epoch 36/52 [Train]: 100%|██████████| 83/83 [03:32<00:00,  2.56s/it, loss=0.1092]\n",
      "Epoch 36/52 [Val]: 100%|██████████| 11/11 [00:48<00:00,  4.44s/it]\n"
     ]
    },
    {
     "name": "stdout",
     "output_type": "stream",
     "text": [
      "Epoch 36/52 - Train Loss: 0.6663, Val Loss: 1.5284, Val MAE: 1.7941\n"
     ]
    },
    {
     "name": "stderr",
     "output_type": "stream",
     "text": [
      "Epoch 37/52 [Train]: 100%|██████████| 83/83 [03:32<00:00,  2.57s/it, loss=0.1448]\n",
      "Epoch 37/52 [Val]: 100%|██████████| 11/11 [00:48<00:00,  4.45s/it]\n"
     ]
    },
    {
     "name": "stdout",
     "output_type": "stream",
     "text": [
      "Epoch 37/52 - Train Loss: 0.6586, Val Loss: 1.3213, Val MAE: 1.5902\n"
     ]
    },
    {
     "name": "stderr",
     "output_type": "stream",
     "text": [
      "Epoch 38/52 [Train]: 100%|██████████| 83/83 [03:31<00:00,  2.54s/it, loss=0.1677]\n",
      "Epoch 38/52 [Val]: 100%|██████████| 11/11 [00:47<00:00,  4.35s/it]\n"
     ]
    },
    {
     "name": "stdout",
     "output_type": "stream",
     "text": [
      "Epoch 38/52 - Train Loss: 0.6872, Val Loss: 1.2817, Val MAE: 1.5282\n"
     ]
    },
    {
     "name": "stderr",
     "output_type": "stream",
     "text": [
      "Epoch 39/52 [Train]: 100%|██████████| 83/83 [03:31<00:00,  2.55s/it, loss=0.1501]\n",
      "Epoch 39/52 [Val]: 100%|██████████| 11/11 [00:49<00:00,  4.51s/it]\n"
     ]
    },
    {
     "name": "stdout",
     "output_type": "stream",
     "text": [
      "Epoch 39/52 - Train Loss: 0.5827, Val Loss: 1.4607, Val MAE: 1.7544\n"
     ]
    },
    {
     "name": "stderr",
     "output_type": "stream",
     "text": [
      "Epoch 40/52 [Train]: 100%|██████████| 83/83 [03:32<00:00,  2.56s/it, loss=0.6727]\n",
      "Epoch 40/52 [Val]: 100%|██████████| 11/11 [00:48<00:00,  4.44s/it]\n"
     ]
    },
    {
     "name": "stdout",
     "output_type": "stream",
     "text": [
      "Epoch 40/52 - Train Loss: 0.5849, Val Loss: 1.2847, Val MAE: 1.5330\n"
     ]
    },
    {
     "name": "stderr",
     "output_type": "stream",
     "text": [
      "Epoch 41/52 [Train]: 100%|██████████| 83/83 [03:29<00:00,  2.52s/it, loss=0.4286]\n",
      "Epoch 41/52 [Val]: 100%|██████████| 11/11 [00:48<00:00,  4.39s/it]\n"
     ]
    },
    {
     "name": "stdout",
     "output_type": "stream",
     "text": [
      "Epoch 41/52 - Train Loss: 0.5667, Val Loss: 1.2037, Val MAE: 1.4565\n"
     ]
    },
    {
     "name": "stderr",
     "output_type": "stream",
     "text": [
      "Epoch 42/52 [Train]: 100%|██████████| 83/83 [03:30<00:00,  2.54s/it, loss=0.3048]\n",
      "Epoch 42/52 [Val]: 100%|██████████| 11/11 [00:48<00:00,  4.40s/it]\n"
     ]
    },
    {
     "name": "stdout",
     "output_type": "stream",
     "text": [
      "Epoch 42/52 - Train Loss: 0.6039, Val Loss: 1.0720, Val MAE: 1.3185\n",
      "Saved new best model to /kaggle/working/best_model_fold1.pth\n"
     ]
    },
    {
     "name": "stderr",
     "output_type": "stream",
     "text": [
      "Epoch 43/52 [Train]: 100%|██████████| 83/83 [03:29<00:00,  2.53s/it, loss=1.4762]\n",
      "Epoch 43/52 [Val]: 100%|██████████| 11/11 [00:48<00:00,  4.38s/it]\n"
     ]
    },
    {
     "name": "stdout",
     "output_type": "stream",
     "text": [
      "Epoch 43/52 - Train Loss: 0.5548, Val Loss: 1.1195, Val MAE: 1.3666\n"
     ]
    },
    {
     "name": "stderr",
     "output_type": "stream",
     "text": [
      "Epoch 44/52 [Train]: 100%|██████████| 83/83 [03:32<00:00,  2.56s/it, loss=0.6040]\n",
      "Epoch 44/52 [Val]: 100%|██████████| 11/11 [00:49<00:00,  4.53s/it]\n"
     ]
    },
    {
     "name": "stdout",
     "output_type": "stream",
     "text": [
      "Epoch 44/52 - Train Loss: 0.6067, Val Loss: 1.0472, Val MAE: 1.2831\n",
      "Saved new best model to /kaggle/working/best_model_fold1.pth\n"
     ]
    },
    {
     "name": "stderr",
     "output_type": "stream",
     "text": [
      "Epoch 45/52 [Train]: 100%|██████████| 83/83 [03:31<00:00,  2.54s/it, loss=0.4816]\n",
      "Epoch 45/52 [Val]: 100%|██████████| 11/11 [00:48<00:00,  4.45s/it]\n"
     ]
    },
    {
     "name": "stdout",
     "output_type": "stream",
     "text": [
      "Epoch 45/52 - Train Loss: 0.4914, Val Loss: 1.0154, Val MAE: 1.2588\n",
      "Saved new best model to /kaggle/working/best_model_fold1.pth\n"
     ]
    },
    {
     "name": "stderr",
     "output_type": "stream",
     "text": [
      "Epoch 46/52 [Train]: 100%|██████████| 83/83 [03:30<00:00,  2.53s/it, loss=0.1180]\n",
      "Epoch 46/52 [Val]: 100%|██████████| 11/11 [00:49<00:00,  4.47s/it]\n"
     ]
    },
    {
     "name": "stdout",
     "output_type": "stream",
     "text": [
      "Epoch 46/52 - Train Loss: 0.4924, Val Loss: 1.1580, Val MAE: 1.3998\n"
     ]
    },
    {
     "name": "stderr",
     "output_type": "stream",
     "text": [
      "Epoch 47/52 [Train]: 100%|██████████| 83/83 [03:29<00:00,  2.53s/it, loss=0.4251]\n",
      "Epoch 47/52 [Val]: 100%|██████████| 11/11 [00:48<00:00,  4.41s/it]\n"
     ]
    },
    {
     "name": "stdout",
     "output_type": "stream",
     "text": [
      "Epoch 47/52 - Train Loss: 0.4963, Val Loss: 0.9116, Val MAE: 1.1377\n",
      "Saved new best model to /kaggle/working/best_model_fold1.pth\n"
     ]
    },
    {
     "name": "stderr",
     "output_type": "stream",
     "text": [
      "Epoch 48/52 [Train]: 100%|██████████| 83/83 [03:30<00:00,  2.54s/it, loss=0.1850]\n",
      "Epoch 48/52 [Val]: 100%|██████████| 11/11 [00:48<00:00,  4.43s/it]\n"
     ]
    },
    {
     "name": "stdout",
     "output_type": "stream",
     "text": [
      "Epoch 48/52 - Train Loss: 0.4700, Val Loss: 1.0037, Val MAE: 1.2423\n"
     ]
    },
    {
     "name": "stderr",
     "output_type": "stream",
     "text": [
      "Epoch 49/52 [Train]: 100%|██████████| 83/83 [03:30<00:00,  2.53s/it, loss=1.1120]\n",
      "Epoch 49/52 [Val]: 100%|██████████| 11/11 [00:48<00:00,  4.40s/it]\n"
     ]
    },
    {
     "name": "stdout",
     "output_type": "stream",
     "text": [
      "Epoch 49/52 - Train Loss: 0.4696, Val Loss: 1.1551, Val MAE: 1.3971\n"
     ]
    },
    {
     "name": "stderr",
     "output_type": "stream",
     "text": [
      "Epoch 50/52 [Train]: 100%|██████████| 83/83 [03:30<00:00,  2.53s/it, loss=0.1577]\n",
      "Epoch 50/52 [Val]: 100%|██████████| 11/11 [00:49<00:00,  4.46s/it]\n"
     ]
    },
    {
     "name": "stdout",
     "output_type": "stream",
     "text": [
      "Epoch 50/52 - Train Loss: 0.4020, Val Loss: 1.1859, Val MAE: 1.4427\n"
     ]
    },
    {
     "name": "stderr",
     "output_type": "stream",
     "text": [
      "Epoch 51/52 [Train]: 100%|██████████| 83/83 [03:32<00:00,  2.56s/it, loss=0.2249]\n",
      "Epoch 51/52 [Val]: 100%|██████████| 11/11 [00:48<00:00,  4.42s/it]\n"
     ]
    },
    {
     "name": "stdout",
     "output_type": "stream",
     "text": [
      "Epoch 51/52 - Train Loss: 0.4228, Val Loss: 1.0397, Val MAE: 1.2747\n"
     ]
    },
    {
     "name": "stderr",
     "output_type": "stream",
     "text": [
      "Epoch 52/52 [Train]: 100%|██████████| 83/83 [03:31<00:00,  2.55s/it, loss=0.0968]\n",
      "Epoch 52/52 [Val]: 100%|██████████| 11/11 [00:48<00:00,  4.44s/it]\n"
     ]
    },
    {
     "name": "stdout",
     "output_type": "stream",
     "text": [
      "Epoch 52/52 - Train Loss: 0.3630, Val Loss: 1.0520, Val MAE: 1.2924\n",
      "Training fold 3/3\n",
      "Starting training for fold 3\n"
     ]
    },
    {
     "name": "stderr",
     "output_type": "stream",
     "text": [
      "Epoch 1/52 [Train]: 100%|██████████| 83/83 [03:34<00:00,  2.59s/it, loss=2.1129]\n",
      "Epoch 1/52 [Val]: 100%|██████████| 11/11 [00:48<00:00,  4.40s/it]\n"
     ]
    },
    {
     "name": "stdout",
     "output_type": "stream",
     "text": [
      "Epoch 1/52 - Train Loss: 2.0315, Val Loss: 2.1119, Val MAE: 2.4451\n",
      "Saved new best model to /kaggle/working/best_model_fold2.pth\n"
     ]
    },
    {
     "name": "stderr",
     "output_type": "stream",
     "text": [
      "Epoch 2/52 [Train]: 100%|██████████| 83/83 [03:29<00:00,  2.53s/it, loss=0.5843]\n",
      "Epoch 2/52 [Val]: 100%|██████████| 11/11 [00:48<00:00,  4.37s/it]\n"
     ]
    },
    {
     "name": "stdout",
     "output_type": "stream",
     "text": [
      "Epoch 2/52 - Train Loss: 1.6663, Val Loss: 2.0033, Val MAE: 2.3459\n",
      "Saved new best model to /kaggle/working/best_model_fold2.pth\n"
     ]
    },
    {
     "name": "stderr",
     "output_type": "stream",
     "text": [
      "Epoch 3/52 [Train]: 100%|██████████| 83/83 [03:31<00:00,  2.55s/it, loss=0.5461]\n",
      "Epoch 3/52 [Val]: 100%|██████████| 11/11 [00:48<00:00,  4.38s/it]\n"
     ]
    },
    {
     "name": "stdout",
     "output_type": "stream",
     "text": [
      "Epoch 3/52 - Train Loss: 1.5067, Val Loss: 1.7667, Val MAE: 2.0839\n",
      "Saved new best model to /kaggle/working/best_model_fold2.pth\n"
     ]
    },
    {
     "name": "stderr",
     "output_type": "stream",
     "text": [
      "Epoch 4/52 [Train]: 100%|██████████| 83/83 [03:31<00:00,  2.54s/it, loss=0.8154]\n",
      "Epoch 4/52 [Val]: 100%|██████████| 11/11 [00:48<00:00,  4.41s/it]\n"
     ]
    },
    {
     "name": "stdout",
     "output_type": "stream",
     "text": [
      "Epoch 4/52 - Train Loss: 1.3420, Val Loss: 1.7168, Val MAE: 1.9923\n",
      "Saved new best model to /kaggle/working/best_model_fold2.pth\n"
     ]
    },
    {
     "name": "stderr",
     "output_type": "stream",
     "text": [
      "Epoch 5/52 [Train]: 100%|██████████| 83/83 [03:30<00:00,  2.54s/it, loss=1.3261]\n",
      "Epoch 5/52 [Val]: 100%|██████████| 11/11 [00:47<00:00,  4.31s/it]\n"
     ]
    },
    {
     "name": "stdout",
     "output_type": "stream",
     "text": [
      "Epoch 5/52 - Train Loss: 1.2221, Val Loss: 1.8518, Val MAE: 2.1463\n"
     ]
    },
    {
     "name": "stderr",
     "output_type": "stream",
     "text": [
      "Epoch 6/52 [Train]: 100%|██████████| 83/83 [03:31<00:00,  2.55s/it, loss=2.8023]\n",
      "Epoch 6/52 [Val]: 100%|██████████| 11/11 [00:47<00:00,  4.34s/it]\n"
     ]
    },
    {
     "name": "stdout",
     "output_type": "stream",
     "text": [
      "Epoch 6/52 - Train Loss: 1.1175, Val Loss: 1.4745, Val MAE: 1.7727\n",
      "Saved new best model to /kaggle/working/best_model_fold2.pth\n"
     ]
    },
    {
     "name": "stderr",
     "output_type": "stream",
     "text": [
      "Epoch 7/52 [Train]: 100%|██████████| 83/83 [03:31<00:00,  2.54s/it, loss=0.4956]\n",
      "Epoch 7/52 [Val]: 100%|██████████| 11/11 [00:47<00:00,  4.32s/it]\n"
     ]
    },
    {
     "name": "stdout",
     "output_type": "stream",
     "text": [
      "Epoch 7/52 - Train Loss: 1.0698, Val Loss: 1.4482, Val MAE: 1.7258\n",
      "Saved new best model to /kaggle/working/best_model_fold2.pth\n"
     ]
    },
    {
     "name": "stderr",
     "output_type": "stream",
     "text": [
      "Epoch 8/52 [Train]: 100%|██████████| 83/83 [03:28<00:00,  2.52s/it, loss=1.9802]\n",
      "Epoch 8/52 [Val]: 100%|██████████| 11/11 [00:47<00:00,  4.31s/it]\n"
     ]
    },
    {
     "name": "stdout",
     "output_type": "stream",
     "text": [
      "Epoch 8/52 - Train Loss: 0.9327, Val Loss: 1.4443, Val MAE: 1.7156\n",
      "Saved new best model to /kaggle/working/best_model_fold2.pth\n"
     ]
    },
    {
     "name": "stderr",
     "output_type": "stream",
     "text": [
      "Epoch 9/52 [Train]: 100%|██████████| 83/83 [03:31<00:00,  2.54s/it, loss=0.9152]\n",
      "Epoch 9/52 [Val]: 100%|██████████| 11/11 [00:48<00:00,  4.40s/it]\n"
     ]
    },
    {
     "name": "stdout",
     "output_type": "stream",
     "text": [
      "Epoch 9/52 - Train Loss: 0.9001, Val Loss: 1.4483, Val MAE: 1.7291\n"
     ]
    },
    {
     "name": "stderr",
     "output_type": "stream",
     "text": [
      "Epoch 10/52 [Train]: 100%|██████████| 83/83 [03:30<00:00,  2.53s/it, loss=0.3947]\n",
      "Epoch 10/52 [Val]: 100%|██████████| 11/11 [00:47<00:00,  4.28s/it]\n"
     ]
    },
    {
     "name": "stdout",
     "output_type": "stream",
     "text": [
      "Epoch 10/52 - Train Loss: 0.8453, Val Loss: 1.3618, Val MAE: 1.6353\n",
      "Saved new best model to /kaggle/working/best_model_fold2.pth\n"
     ]
    },
    {
     "name": "stderr",
     "output_type": "stream",
     "text": [
      "Epoch 11/52 [Train]: 100%|██████████| 83/83 [03:30<00:00,  2.54s/it, loss=0.4490]\n",
      "Epoch 11/52 [Val]: 100%|██████████| 11/11 [00:47<00:00,  4.32s/it]\n"
     ]
    },
    {
     "name": "stdout",
     "output_type": "stream",
     "text": [
      "Epoch 11/52 - Train Loss: 1.0533, Val Loss: 1.5325, Val MAE: 1.8224\n"
     ]
    },
    {
     "name": "stderr",
     "output_type": "stream",
     "text": [
      "Epoch 12/52 [Train]: 100%|██████████| 83/83 [03:29<00:00,  2.52s/it, loss=0.2251]\n",
      "Epoch 12/52 [Val]: 100%|██████████| 11/11 [00:47<00:00,  4.35s/it]\n"
     ]
    },
    {
     "name": "stdout",
     "output_type": "stream",
     "text": [
      "Epoch 12/52 - Train Loss: 1.1179, Val Loss: 1.2545, Val MAE: 1.5099\n",
      "Saved new best model to /kaggle/working/best_model_fold2.pth\n"
     ]
    },
    {
     "name": "stderr",
     "output_type": "stream",
     "text": [
      "Epoch 13/52 [Train]: 100%|██████████| 83/83 [03:30<00:00,  2.54s/it, loss=0.9722]\n",
      "Epoch 13/52 [Val]: 100%|██████████| 11/11 [00:48<00:00,  4.39s/it]\n"
     ]
    },
    {
     "name": "stdout",
     "output_type": "stream",
     "text": [
      "Epoch 13/52 - Train Loss: 1.0055, Val Loss: 1.6088, Val MAE: 1.8854\n"
     ]
    },
    {
     "name": "stderr",
     "output_type": "stream",
     "text": [
      "Epoch 14/52 [Train]: 100%|██████████| 83/83 [03:33<00:00,  2.57s/it, loss=0.5841]\n",
      "Epoch 14/52 [Val]: 100%|██████████| 11/11 [00:49<00:00,  4.47s/it]\n"
     ]
    },
    {
     "name": "stdout",
     "output_type": "stream",
     "text": [
      "Epoch 14/52 - Train Loss: 0.8832, Val Loss: 1.3161, Val MAE: 1.5626\n"
     ]
    },
    {
     "name": "stderr",
     "output_type": "stream",
     "text": [
      "Epoch 15/52 [Train]: 100%|██████████| 83/83 [03:31<00:00,  2.54s/it, loss=1.5063]\n",
      "Epoch 15/52 [Val]: 100%|██████████| 11/11 [00:48<00:00,  4.44s/it]\n"
     ]
    },
    {
     "name": "stdout",
     "output_type": "stream",
     "text": [
      "Epoch 15/52 - Train Loss: 0.9461, Val Loss: 1.2617, Val MAE: 1.5250\n"
     ]
    },
    {
     "name": "stderr",
     "output_type": "stream",
     "text": [
      "Epoch 16/52 [Train]: 100%|██████████| 83/83 [03:30<00:00,  2.54s/it, loss=2.0427]\n",
      "Epoch 16/52 [Val]: 100%|██████████| 11/11 [00:48<00:00,  4.37s/it]\n"
     ]
    },
    {
     "name": "stdout",
     "output_type": "stream",
     "text": [
      "Epoch 16/52 - Train Loss: 0.9805, Val Loss: 1.2320, Val MAE: 1.4857\n",
      "Saved new best model to /kaggle/working/best_model_fold2.pth\n"
     ]
    },
    {
     "name": "stderr",
     "output_type": "stream",
     "text": [
      "Epoch 17/52 [Train]: 100%|██████████| 83/83 [03:32<00:00,  2.56s/it, loss=1.6317]\n",
      "Epoch 17/52 [Val]: 100%|██████████| 11/11 [00:48<00:00,  4.40s/it]\n"
     ]
    },
    {
     "name": "stdout",
     "output_type": "stream",
     "text": [
      "Epoch 17/52 - Train Loss: 0.8952, Val Loss: 1.3716, Val MAE: 1.6323\n"
     ]
    },
    {
     "name": "stderr",
     "output_type": "stream",
     "text": [
      "Epoch 18/52 [Train]: 100%|██████████| 83/83 [03:32<00:00,  2.56s/it, loss=0.6667]\n",
      "Epoch 18/52 [Val]: 100%|██████████| 11/11 [00:48<00:00,  4.41s/it]\n"
     ]
    },
    {
     "name": "stdout",
     "output_type": "stream",
     "text": [
      "Epoch 18/52 - Train Loss: 0.7625, Val Loss: 1.2747, Val MAE: 1.5417\n"
     ]
    },
    {
     "name": "stderr",
     "output_type": "stream",
     "text": [
      "Epoch 19/52 [Train]: 100%|██████████| 83/83 [03:29<00:00,  2.53s/it, loss=0.2116]\n",
      "Epoch 19/52 [Val]: 100%|██████████| 11/11 [00:47<00:00,  4.35s/it]\n"
     ]
    },
    {
     "name": "stdout",
     "output_type": "stream",
     "text": [
      "Epoch 19/52 - Train Loss: 0.8055, Val Loss: 1.5095, Val MAE: 1.7778\n"
     ]
    },
    {
     "name": "stderr",
     "output_type": "stream",
     "text": [
      "Epoch 20/52 [Train]: 100%|██████████| 83/83 [03:31<00:00,  2.54s/it, loss=0.1533]\n",
      "Epoch 20/52 [Val]: 100%|██████████| 11/11 [00:47<00:00,  4.32s/it]\n"
     ]
    },
    {
     "name": "stdout",
     "output_type": "stream",
     "text": [
      "Epoch 20/52 - Train Loss: 0.6709, Val Loss: 1.3651, Val MAE: 1.6261\n"
     ]
    },
    {
     "name": "stderr",
     "output_type": "stream",
     "text": [
      "Epoch 21/52 [Train]: 100%|██████████| 83/83 [03:33<00:00,  2.57s/it, loss=1.1653]\n",
      "Epoch 21/52 [Val]: 100%|██████████| 11/11 [00:47<00:00,  4.35s/it]\n"
     ]
    },
    {
     "name": "stdout",
     "output_type": "stream",
     "text": [
      "Epoch 21/52 - Train Loss: 0.5637, Val Loss: 1.3482, Val MAE: 1.6028\n"
     ]
    },
    {
     "name": "stderr",
     "output_type": "stream",
     "text": [
      "Epoch 22/52 [Train]: 100%|██████████| 83/83 [03:32<00:00,  2.56s/it, loss=0.8447]\n",
      "Epoch 22/52 [Val]: 100%|██████████| 11/11 [00:48<00:00,  4.40s/it]\n"
     ]
    },
    {
     "name": "stdout",
     "output_type": "stream",
     "text": [
      "Epoch 22/52 - Train Loss: 0.6401, Val Loss: 1.2703, Val MAE: 1.5283\n"
     ]
    },
    {
     "name": "stderr",
     "output_type": "stream",
     "text": [
      "Epoch 23/52 [Train]: 100%|██████████| 83/83 [03:31<00:00,  2.54s/it, loss=0.2887]\n",
      "Epoch 23/52 [Val]: 100%|██████████| 11/11 [00:48<00:00,  4.39s/it]\n"
     ]
    },
    {
     "name": "stdout",
     "output_type": "stream",
     "text": [
      "Epoch 23/52 - Train Loss: 0.6148, Val Loss: 1.2682, Val MAE: 1.5244\n"
     ]
    },
    {
     "name": "stderr",
     "output_type": "stream",
     "text": [
      "Epoch 24/52 [Train]: 100%|██████████| 83/83 [03:32<00:00,  2.56s/it, loss=0.9231]\n",
      "Epoch 24/52 [Val]: 100%|██████████| 11/11 [00:48<00:00,  4.44s/it]\n"
     ]
    },
    {
     "name": "stdout",
     "output_type": "stream",
     "text": [
      "Epoch 24/52 - Train Loss: 0.5685, Val Loss: 1.1823, Val MAE: 1.4349\n",
      "Saved new best model to /kaggle/working/best_model_fold2.pth\n"
     ]
    },
    {
     "name": "stderr",
     "output_type": "stream",
     "text": [
      "Epoch 25/52 [Train]: 100%|██████████| 83/83 [03:32<00:00,  2.57s/it, loss=1.1519]\n",
      "Epoch 25/52 [Val]: 100%|██████████| 11/11 [00:49<00:00,  4.46s/it]\n"
     ]
    },
    {
     "name": "stdout",
     "output_type": "stream",
     "text": [
      "Epoch 25/52 - Train Loss: 0.5111, Val Loss: 1.1545, Val MAE: 1.4049\n",
      "Saved new best model to /kaggle/working/best_model_fold2.pth\n"
     ]
    },
    {
     "name": "stderr",
     "output_type": "stream",
     "text": [
      "Epoch 26/52 [Train]: 100%|██████████| 83/83 [03:31<00:00,  2.55s/it, loss=0.2363]\n",
      "Epoch 26/52 [Val]: 100%|██████████| 11/11 [00:47<00:00,  4.35s/it]\n"
     ]
    },
    {
     "name": "stdout",
     "output_type": "stream",
     "text": [
      "Epoch 26/52 - Train Loss: 0.4738, Val Loss: 1.3007, Val MAE: 1.5548\n"
     ]
    },
    {
     "name": "stderr",
     "output_type": "stream",
     "text": [
      "Epoch 27/52 [Train]: 100%|██████████| 83/83 [03:32<00:00,  2.56s/it, loss=0.3190]\n",
      "Epoch 27/52 [Val]: 100%|██████████| 11/11 [00:48<00:00,  4.37s/it]\n"
     ]
    },
    {
     "name": "stdout",
     "output_type": "stream",
     "text": [
      "Epoch 27/52 - Train Loss: 0.5052, Val Loss: 1.2800, Val MAE: 1.5326\n"
     ]
    },
    {
     "name": "stderr",
     "output_type": "stream",
     "text": [
      "Epoch 28/52 [Train]: 100%|██████████| 83/83 [03:30<00:00,  2.54s/it, loss=0.2208]\n",
      "Epoch 28/52 [Val]: 100%|██████████| 11/11 [00:48<00:00,  4.36s/it]\n"
     ]
    },
    {
     "name": "stdout",
     "output_type": "stream",
     "text": [
      "Epoch 28/52 - Train Loss: 0.4276, Val Loss: 1.2579, Val MAE: 1.5143\n"
     ]
    },
    {
     "name": "stderr",
     "output_type": "stream",
     "text": [
      "Epoch 29/52 [Train]: 100%|██████████| 83/83 [03:33<00:00,  2.57s/it, loss=0.3959]\n",
      "Epoch 29/52 [Val]: 100%|██████████| 11/11 [00:48<00:00,  4.39s/it]\n"
     ]
    },
    {
     "name": "stdout",
     "output_type": "stream",
     "text": [
      "Epoch 29/52 - Train Loss: 0.4493, Val Loss: 1.2658, Val MAE: 1.5217\n"
     ]
    },
    {
     "name": "stderr",
     "output_type": "stream",
     "text": [
      "Epoch 30/52 [Train]: 100%|██████████| 83/83 [03:32<00:00,  2.55s/it, loss=0.2825]\n",
      "Epoch 30/52 [Val]: 100%|██████████| 11/11 [00:49<00:00,  4.47s/it]\n"
     ]
    },
    {
     "name": "stdout",
     "output_type": "stream",
     "text": [
      "Epoch 30/52 - Train Loss: 0.4532, Val Loss: 1.2811, Val MAE: 1.5348\n"
     ]
    },
    {
     "name": "stderr",
     "output_type": "stream",
     "text": [
      "Epoch 31/52 [Train]: 100%|██████████| 83/83 [03:31<00:00,  2.55s/it, loss=0.1973]\n",
      "Epoch 31/52 [Val]: 100%|██████████| 11/11 [00:48<00:00,  4.40s/it]\n"
     ]
    },
    {
     "name": "stdout",
     "output_type": "stream",
     "text": [
      "Epoch 31/52 - Train Loss: 0.5897, Val Loss: 1.1460, Val MAE: 1.4040\n",
      "Saved new best model to /kaggle/working/best_model_fold2.pth\n"
     ]
    },
    {
     "name": "stderr",
     "output_type": "stream",
     "text": [
      "Epoch 32/52 [Train]: 100%|██████████| 83/83 [03:30<00:00,  2.54s/it, loss=0.1249]\n",
      "Epoch 32/52 [Val]: 100%|██████████| 11/11 [00:48<00:00,  4.43s/it]\n"
     ]
    },
    {
     "name": "stdout",
     "output_type": "stream",
     "text": [
      "Epoch 32/52 - Train Loss: 0.7264, Val Loss: 1.4417, Val MAE: 1.7079\n"
     ]
    },
    {
     "name": "stderr",
     "output_type": "stream",
     "text": [
      "Epoch 33/52 [Train]: 100%|██████████| 83/83 [03:32<00:00,  2.56s/it, loss=0.4507]\n",
      "Epoch 33/52 [Val]: 100%|██████████| 11/11 [00:47<00:00,  4.30s/it]\n"
     ]
    },
    {
     "name": "stdout",
     "output_type": "stream",
     "text": [
      "Epoch 33/52 - Train Loss: 0.6651, Val Loss: 1.2902, Val MAE: 1.5564\n"
     ]
    },
    {
     "name": "stderr",
     "output_type": "stream",
     "text": [
      "Epoch 34/52 [Train]: 100%|██████████| 83/83 [03:33<00:00,  2.57s/it, loss=0.6675]\n",
      "Epoch 34/52 [Val]: 100%|██████████| 11/11 [00:48<00:00,  4.39s/it]\n"
     ]
    },
    {
     "name": "stdout",
     "output_type": "stream",
     "text": [
      "Epoch 34/52 - Train Loss: 0.6991, Val Loss: 1.5781, Val MAE: 1.8341\n"
     ]
    },
    {
     "name": "stderr",
     "output_type": "stream",
     "text": [
      "Epoch 35/52 [Train]: 100%|██████████| 83/83 [03:30<00:00,  2.54s/it, loss=0.1800]\n",
      "Epoch 35/52 [Val]: 100%|██████████| 11/11 [00:47<00:00,  4.35s/it]\n"
     ]
    },
    {
     "name": "stdout",
     "output_type": "stream",
     "text": [
      "Epoch 35/52 - Train Loss: 0.8626, Val Loss: 1.3547, Val MAE: 1.6252\n"
     ]
    },
    {
     "name": "stderr",
     "output_type": "stream",
     "text": [
      "Epoch 36/52 [Train]: 100%|██████████| 83/83 [03:32<00:00,  2.57s/it, loss=0.2479]\n",
      "Epoch 36/52 [Val]: 100%|██████████| 11/11 [00:49<00:00,  4.50s/it]\n"
     ]
    },
    {
     "name": "stdout",
     "output_type": "stream",
     "text": [
      "Epoch 36/52 - Train Loss: 0.6907, Val Loss: 1.2337, Val MAE: 1.4711\n"
     ]
    },
    {
     "name": "stderr",
     "output_type": "stream",
     "text": [
      "Epoch 37/52 [Train]: 100%|██████████| 83/83 [03:32<00:00,  2.56s/it, loss=0.3394]\n",
      "Epoch 37/52 [Val]: 100%|██████████| 11/11 [00:48<00:00,  4.39s/it]\n"
     ]
    },
    {
     "name": "stdout",
     "output_type": "stream",
     "text": [
      "Epoch 37/52 - Train Loss: 0.7186, Val Loss: 1.5837, Val MAE: 1.8462\n"
     ]
    },
    {
     "name": "stderr",
     "output_type": "stream",
     "text": [
      "Epoch 38/52 [Train]: 100%|██████████| 83/83 [03:30<00:00,  2.53s/it, loss=1.0555]\n",
      "Epoch 38/52 [Val]: 100%|██████████| 11/11 [00:48<00:00,  4.39s/it]\n"
     ]
    },
    {
     "name": "stdout",
     "output_type": "stream",
     "text": [
      "Epoch 38/52 - Train Loss: 0.6798, Val Loss: 1.5048, Val MAE: 1.7375\n"
     ]
    },
    {
     "name": "stderr",
     "output_type": "stream",
     "text": [
      "Epoch 39/52 [Train]: 100%|██████████| 83/83 [03:31<00:00,  2.55s/it, loss=0.1059]\n",
      "Epoch 39/52 [Val]: 100%|██████████| 11/11 [00:48<00:00,  4.43s/it]\n"
     ]
    },
    {
     "name": "stdout",
     "output_type": "stream",
     "text": [
      "Epoch 39/52 - Train Loss: 0.6370, Val Loss: 1.4878, Val MAE: 1.7450\n"
     ]
    },
    {
     "name": "stderr",
     "output_type": "stream",
     "text": [
      "Epoch 40/52 [Train]: 100%|██████████| 83/83 [03:32<00:00,  2.56s/it, loss=1.5727]\n",
      "Epoch 40/52 [Val]: 100%|██████████| 11/11 [00:48<00:00,  4.41s/it]\n"
     ]
    },
    {
     "name": "stdout",
     "output_type": "stream",
     "text": [
      "Epoch 40/52 - Train Loss: 0.6191, Val Loss: 1.2987, Val MAE: 1.5571\n"
     ]
    },
    {
     "name": "stderr",
     "output_type": "stream",
     "text": [
      "Epoch 41/52 [Train]: 100%|██████████| 83/83 [03:32<00:00,  2.56s/it, loss=1.3280]\n",
      "Epoch 41/52 [Val]: 100%|██████████| 11/11 [00:48<00:00,  4.40s/it]\n"
     ]
    },
    {
     "name": "stdout",
     "output_type": "stream",
     "text": [
      "Epoch 41/52 - Train Loss: 0.6429, Val Loss: 1.1134, Val MAE: 1.3657\n",
      "Saved new best model to /kaggle/working/best_model_fold2.pth\n"
     ]
    },
    {
     "name": "stderr",
     "output_type": "stream",
     "text": [
      "Epoch 42/52 [Train]: 100%|██████████| 83/83 [03:33<00:00,  2.57s/it, loss=0.4530]\n",
      "Epoch 42/52 [Val]: 100%|██████████| 11/11 [00:48<00:00,  4.41s/it]\n"
     ]
    },
    {
     "name": "stdout",
     "output_type": "stream",
     "text": [
      "Epoch 42/52 - Train Loss: 0.5857, Val Loss: 1.3096, Val MAE: 1.5786\n"
     ]
    },
    {
     "name": "stderr",
     "output_type": "stream",
     "text": [
      "Epoch 43/52 [Train]: 100%|██████████| 83/83 [03:32<00:00,  2.56s/it, loss=0.4206]\n",
      "Epoch 43/52 [Val]: 100%|██████████| 11/11 [00:49<00:00,  4.49s/it]\n"
     ]
    },
    {
     "name": "stdout",
     "output_type": "stream",
     "text": [
      "Epoch 43/52 - Train Loss: 0.5079, Val Loss: 1.3034, Val MAE: 1.5505\n"
     ]
    },
    {
     "name": "stderr",
     "output_type": "stream",
     "text": [
      "Epoch 44/52 [Train]: 100%|██████████| 83/83 [03:34<00:00,  2.59s/it, loss=0.2722]\n",
      "Epoch 44/52 [Val]: 100%|██████████| 11/11 [00:47<00:00,  4.36s/it]\n"
     ]
    },
    {
     "name": "stdout",
     "output_type": "stream",
     "text": [
      "Epoch 44/52 - Train Loss: 0.5191, Val Loss: 1.2476, Val MAE: 1.4995\n"
     ]
    },
    {
     "name": "stderr",
     "output_type": "stream",
     "text": [
      "Epoch 45/52 [Train]: 100%|██████████| 83/83 [03:28<00:00,  2.51s/it, loss=0.5121]\n",
      "Epoch 45/52 [Val]: 100%|██████████| 11/11 [00:47<00:00,  4.36s/it]\n"
     ]
    },
    {
     "name": "stdout",
     "output_type": "stream",
     "text": [
      "Epoch 45/52 - Train Loss: 0.5125, Val Loss: 1.4252, Val MAE: 1.6762\n"
     ]
    },
    {
     "name": "stderr",
     "output_type": "stream",
     "text": [
      "Epoch 46/52 [Train]: 100%|██████████| 83/83 [03:30<00:00,  2.53s/it, loss=0.6217]\n",
      "Epoch 46/52 [Val]: 100%|██████████| 11/11 [00:49<00:00,  4.46s/it]\n"
     ]
    },
    {
     "name": "stdout",
     "output_type": "stream",
     "text": [
      "Epoch 46/52 - Train Loss: 0.4720, Val Loss: 1.3406, Val MAE: 1.5875\n"
     ]
    },
    {
     "name": "stderr",
     "output_type": "stream",
     "text": [
      "Epoch 47/52 [Train]: 100%|██████████| 83/83 [03:31<00:00,  2.54s/it, loss=0.1619]\n",
      "Epoch 47/52 [Val]: 100%|██████████| 11/11 [00:48<00:00,  4.38s/it]\n"
     ]
    },
    {
     "name": "stdout",
     "output_type": "stream",
     "text": [
      "Epoch 47/52 - Train Loss: 0.3958, Val Loss: 1.2270, Val MAE: 1.4820\n"
     ]
    },
    {
     "name": "stderr",
     "output_type": "stream",
     "text": [
      "Epoch 48/52 [Train]: 100%|██████████| 83/83 [03:30<00:00,  2.53s/it, loss=1.1090]\n",
      "Epoch 48/52 [Val]: 100%|██████████| 11/11 [00:48<00:00,  4.41s/it]\n"
     ]
    },
    {
     "name": "stdout",
     "output_type": "stream",
     "text": [
      "Epoch 48/52 - Train Loss: 0.4175, Val Loss: 1.2970, Val MAE: 1.5541\n"
     ]
    },
    {
     "name": "stderr",
     "output_type": "stream",
     "text": [
      "Epoch 49/52 [Train]: 100%|██████████| 83/83 [03:31<00:00,  2.55s/it, loss=0.1475]\n",
      "Epoch 49/52 [Val]: 100%|██████████| 11/11 [00:47<00:00,  4.34s/it]\n"
     ]
    },
    {
     "name": "stdout",
     "output_type": "stream",
     "text": [
      "Epoch 49/52 - Train Loss: 0.4156, Val Loss: 1.2847, Val MAE: 1.5309\n"
     ]
    },
    {
     "name": "stderr",
     "output_type": "stream",
     "text": [
      "Epoch 50/52 [Train]: 100%|██████████| 83/83 [03:31<00:00,  2.55s/it, loss=0.2642]\n",
      "Epoch 50/52 [Val]: 100%|██████████| 11/11 [00:48<00:00,  4.38s/it]\n"
     ]
    },
    {
     "name": "stdout",
     "output_type": "stream",
     "text": [
      "Epoch 50/52 - Train Loss: 0.4134, Val Loss: 1.2759, Val MAE: 1.5235\n"
     ]
    },
    {
     "name": "stderr",
     "output_type": "stream",
     "text": [
      "Epoch 51/52 [Train]: 100%|██████████| 83/83 [03:31<00:00,  2.55s/it, loss=0.3107]\n",
      "Epoch 51/52 [Val]: 100%|██████████| 11/11 [00:48<00:00,  4.39s/it]\n"
     ]
    },
    {
     "name": "stdout",
     "output_type": "stream",
     "text": [
      "Epoch 51/52 - Train Loss: 0.4210, Val Loss: 1.2912, Val MAE: 1.5390\n"
     ]
    },
    {
     "name": "stderr",
     "output_type": "stream",
     "text": [
      "Epoch 52/52 [Train]: 100%|██████████| 83/83 [03:31<00:00,  2.55s/it, loss=0.9601]\n",
      "Epoch 52/52 [Val]: 100%|██████████| 11/11 [00:47<00:00,  4.36s/it]\n"
     ]
    },
    {
     "name": "stdout",
     "output_type": "stream",
     "text": [
      "Epoch 52/52 - Train Loss: 0.4030, Val Loss: 1.2794, Val MAE: 1.5294\n"
     ]
    },
    {
     "name": "stderr",
     "output_type": "stream",
     "text": [
      "<ipython-input-3-a6b2a91e5f84>:193: FutureWarning: You are using `torch.load` with `weights_only=False` (the current default value), which uses the default pickle module implicitly. It is possible to construct malicious pickle data which will execute arbitrary code during unpickling (See https://github.com/pytorch/pytorch/blob/main/SECURITY.md#untrusted-models for more details). In a future release, the default value for `weights_only` will be flipped to `True`. This limits the functions that could be executed during unpickling. Arbitrary objects will no longer be allowed to be loaded via this mode unless they are explicitly allowlisted by the user via `torch.serialization.add_safe_globals`. We recommend you start setting `weights_only=True` for any use case where you don't have full control of the loaded file. Please open an issue on GitHub for any issues related to this experimental feature.\n",
      "  state_dict = torch.load(path, map_location=device)\n",
      "Inference: 100%|██████████| 18/18 [01:16<00:00,  4.23s/it]\n",
      "Inference: 100%|██████████| 18/18 [01:08<00:00,  3.82s/it]\n",
      "Inference: 100%|██████████| 18/18 [01:08<00:00,  3.79s/it]"
     ]
    },
    {
     "name": "stdout",
     "output_type": "stream",
     "text": [
      "Submissions saved with shapes: (2214, 2) (2214, 2)\n"
     ]
    },
    {
     "name": "stderr",
     "output_type": "stream",
     "text": [
      "\n"
     ]
    }
   ],
   "source": [
    "\n",
    "# ====================\n",
    "# STEP 7: Main Execution\n",
    "# ====================\n",
    "if __name__ == \"__main__\":\n",
    "    # Load data using the BASE_DIR\n",
    "    train_df = pd.read_csv(os.path.join(BASE_DIR, \"Train.csv\"))\n",
    "    test_df = pd.read_csv(os.path.join(BASE_DIR, \"Test.csv\"))\n",
    "\n",
    "    folds = 3\n",
    "    model_paths = []\n",
    "\n",
    "    # Train each fold\n",
    "    for fold in range(folds):\n",
    "        print(f\"Training fold {fold+1}/{folds}\")\n",
    "        best_mae = train_one_fold(train_df, fold=fold, epochs=52, batch_size=32)\n",
    "        model_paths.append(f\"best_model_fold{fold}.pth\")\n",
    "\n",
    "    # Perform inference\n",
    "    predictions = predict(test_df, model_paths, batch_size=64)\n",
    "\n",
    "    # Prepare submission files\n",
    "    submission = pd.DataFrame({\n",
    "        \"ID\": np.repeat(test_df[\"ID\"].values, 2),\n",
    "        \"Target\": predictions.flatten()\n",
    "    })\n",
    "    submission[\"ID\"] += np.where(\n",
    "        submission.groupby(\"ID\").cumcount() == 0,\n",
    "        \"_boil\",\n",
    "        \"_pan\"\n",
    "    )\n",
    "    submission.to_csv(\"/kaggle/working/submission_original.csv\", index=False)\n",
    "\n",
    "    int_submission = submission.copy()\n",
    "    int_submission[\"Target\"] = np.round(int_submission[\"Target\"]).astype(int)\n",
    "    int_submission.to_csv(\"/kaggle/working/submission_integer.csv\", index=False)\n",
    "\n",
    "    print(\"Submissions saved with shapes:\", submission.shape, int_submission.shape)"
   ]
  }
 ],
 "metadata": {
  "kaggle": {
   "accelerator": "gpu",
   "dataSources": [
    {
     "datasetId": 6691299,
     "sourceId": 10783793,
     "sourceType": "datasetVersion"
    }
   ],
   "dockerImageVersionId": 30919,
   "isGpuEnabled": true,
   "isInternetEnabled": true,
   "language": "python",
   "sourceType": "notebook"
  },
  "kernelspec": {
   "display_name": "Python 3",
   "language": "python",
   "name": "python3"
  },
  "language_info": {
   "codemirror_mode": {
    "name": "ipython",
    "version": 3
   },
   "file_extension": ".py",
   "mimetype": "text/x-python",
   "name": "python",
   "nbconvert_exporter": "python",
   "pygments_lexer": "ipython3",
   "version": "3.10.12"
  },
  "papermill": {
   "default_parameters": {},
   "duration": 40670.085222,
   "end_time": "2025-03-22T19:14:50.656668",
   "environment_variables": {},
   "exception": null,
   "input_path": "__notebook__.ipynb",
   "output_path": "__notebook__.ipynb",
   "parameters": {},
   "start_time": "2025-03-22T07:57:00.571446",
   "version": "2.6.0"
  },
  "widgets": {
   "application/vnd.jupyter.widget-state+json": {
    "state": {
     "0f59603fbda1428f9ab3f69b7dc0b2f0": {
      "model_module": "@jupyter-widgets/controls",
      "model_module_version": "2.0.0",
      "model_name": "HTMLStyleModel",
      "state": {
       "_model_module": "@jupyter-widgets/controls",
       "_model_module_version": "2.0.0",
       "_model_name": "HTMLStyleModel",
       "_view_count": null,
       "_view_module": "@jupyter-widgets/base",
       "_view_module_version": "2.0.0",
       "_view_name": "StyleView",
       "background": null,
       "description_width": "",
       "font_size": null,
       "text_color": null
      }
     },
     "426dd2ffe8ad4deeaa7b409ed2a5c89b": {
      "model_module": "@jupyter-widgets/base",
      "model_module_version": "2.0.0",
      "model_name": "LayoutModel",
      "state": {
       "_model_module": "@jupyter-widgets/base",
       "_model_module_version": "2.0.0",
       "_model_name": "LayoutModel",
       "_view_count": null,
       "_view_module": "@jupyter-widgets/base",
       "_view_module_version": "2.0.0",
       "_view_name": "LayoutView",
       "align_content": null,
       "align_items": null,
       "align_self": null,
       "border_bottom": null,
       "border_left": null,
       "border_right": null,
       "border_top": null,
       "bottom": null,
       "display": null,
       "flex": null,
       "flex_flow": null,
       "grid_area": null,
       "grid_auto_columns": null,
       "grid_auto_flow": null,
       "grid_auto_rows": null,
       "grid_column": null,
       "grid_gap": null,
       "grid_row": null,
       "grid_template_areas": null,
       "grid_template_columns": null,
       "grid_template_rows": null,
       "height": null,
       "justify_content": null,
       "justify_items": null,
       "left": null,
       "margin": null,
       "max_height": null,
       "max_width": null,
       "min_height": null,
       "min_width": null,
       "object_fit": null,
       "object_position": null,
       "order": null,
       "overflow": null,
       "padding": null,
       "right": null,
       "top": null,
       "visibility": null,
       "width": null
      }
     },
     "5c83a9a5204941ccbc6d71c237fd4358": {
      "model_module": "@jupyter-widgets/controls",
      "model_module_version": "2.0.0",
      "model_name": "HTMLModel",
      "state": {
       "_dom_classes": [],
       "_model_module": "@jupyter-widgets/controls",
       "_model_module_version": "2.0.0",
       "_model_name": "HTMLModel",
       "_view_count": null,
       "_view_module": "@jupyter-widgets/controls",
       "_view_module_version": "2.0.0",
       "_view_name": "HTMLView",
       "description": "",
       "description_allow_html": false,
       "layout": "IPY_MODEL_ebb7233b26864d24a6ffad1bd87f2be6",
       "placeholder": "​",
       "style": "IPY_MODEL_0f59603fbda1428f9ab3f69b7dc0b2f0",
       "tabbable": null,
       "tooltip": null,
       "value": " 57.9M/57.9M [00:00&lt;00:00, 215MB/s]"
      }
     },
     "7eb1bac6996a402081bb694f84f51082": {
      "model_module": "@jupyter-widgets/controls",
      "model_module_version": "2.0.0",
      "model_name": "ProgressStyleModel",
      "state": {
       "_model_module": "@jupyter-widgets/controls",
       "_model_module_version": "2.0.0",
       "_model_name": "ProgressStyleModel",
       "_view_count": null,
       "_view_module": "@jupyter-widgets/base",
       "_view_module_version": "2.0.0",
       "_view_name": "StyleView",
       "bar_color": null,
       "description_width": ""
      }
     },
     "8e9fce4c06cf463988818f7f50d7461a": {
      "model_module": "@jupyter-widgets/base",
      "model_module_version": "2.0.0",
      "model_name": "LayoutModel",
      "state": {
       "_model_module": "@jupyter-widgets/base",
       "_model_module_version": "2.0.0",
       "_model_name": "LayoutModel",
       "_view_count": null,
       "_view_module": "@jupyter-widgets/base",
       "_view_module_version": "2.0.0",
       "_view_name": "LayoutView",
       "align_content": null,
       "align_items": null,
       "align_self": null,
       "border_bottom": null,
       "border_left": null,
       "border_right": null,
       "border_top": null,
       "bottom": null,
       "display": null,
       "flex": null,
       "flex_flow": null,
       "grid_area": null,
       "grid_auto_columns": null,
       "grid_auto_flow": null,
       "grid_auto_rows": null,
       "grid_column": null,
       "grid_gap": null,
       "grid_row": null,
       "grid_template_areas": null,
       "grid_template_columns": null,
       "grid_template_rows": null,
       "height": null,
       "justify_content": null,
       "justify_items": null,
       "left": null,
       "margin": null,
       "max_height": null,
       "max_width": null,
       "min_height": null,
       "min_width": null,
       "object_fit": null,
       "object_position": null,
       "order": null,
       "overflow": null,
       "padding": null,
       "right": null,
       "top": null,
       "visibility": null,
       "width": null
      }
     },
     "9b25d69ad99b4941926bf256d1419397": {
      "model_module": "@jupyter-widgets/controls",
      "model_module_version": "2.0.0",
      "model_name": "HTMLStyleModel",
      "state": {
       "_model_module": "@jupyter-widgets/controls",
       "_model_module_version": "2.0.0",
       "_model_name": "HTMLStyleModel",
       "_view_count": null,
       "_view_module": "@jupyter-widgets/base",
       "_view_module_version": "2.0.0",
       "_view_name": "StyleView",
       "background": null,
       "description_width": "",
       "font_size": null,
       "text_color": null
      }
     },
     "a06f40d226ac4636a0ce53f06ce4a6de": {
      "model_module": "@jupyter-widgets/controls",
      "model_module_version": "2.0.0",
      "model_name": "HTMLModel",
      "state": {
       "_dom_classes": [],
       "_model_module": "@jupyter-widgets/controls",
       "_model_module_version": "2.0.0",
       "_model_name": "HTMLModel",
       "_view_count": null,
       "_view_module": "@jupyter-widgets/controls",
       "_view_module_version": "2.0.0",
       "_view_name": "HTMLView",
       "description": "",
       "description_allow_html": false,
       "layout": "IPY_MODEL_f13145d2abcb431d8a60a57009f5a982",
       "placeholder": "​",
       "style": "IPY_MODEL_9b25d69ad99b4941926bf256d1419397",
       "tabbable": null,
       "tooltip": null,
       "value": "model.safetensors: 100%"
      }
     },
     "c15e7bc08147417dbcbee667c65543ca": {
      "model_module": "@jupyter-widgets/controls",
      "model_module_version": "2.0.0",
      "model_name": "HBoxModel",
      "state": {
       "_dom_classes": [],
       "_model_module": "@jupyter-widgets/controls",
       "_model_module_version": "2.0.0",
       "_model_name": "HBoxModel",
       "_view_count": null,
       "_view_module": "@jupyter-widgets/controls",
       "_view_module_version": "2.0.0",
       "_view_name": "HBoxView",
       "box_style": "",
       "children": [
        "IPY_MODEL_a06f40d226ac4636a0ce53f06ce4a6de",
        "IPY_MODEL_dbda07c0e3ad42db88f307e00fbc6a5f",
        "IPY_MODEL_5c83a9a5204941ccbc6d71c237fd4358"
       ],
       "layout": "IPY_MODEL_426dd2ffe8ad4deeaa7b409ed2a5c89b",
       "tabbable": null,
       "tooltip": null
      }
     },
     "dbda07c0e3ad42db88f307e00fbc6a5f": {
      "model_module": "@jupyter-widgets/controls",
      "model_module_version": "2.0.0",
      "model_name": "FloatProgressModel",
      "state": {
       "_dom_classes": [],
       "_model_module": "@jupyter-widgets/controls",
       "_model_module_version": "2.0.0",
       "_model_name": "FloatProgressModel",
       "_view_count": null,
       "_view_module": "@jupyter-widgets/controls",
       "_view_module_version": "2.0.0",
       "_view_name": "ProgressView",
       "bar_style": "success",
       "description": "",
       "description_allow_html": false,
       "layout": "IPY_MODEL_8e9fce4c06cf463988818f7f50d7461a",
       "max": 57929264.0,
       "min": 0.0,
       "orientation": "horizontal",
       "style": "IPY_MODEL_7eb1bac6996a402081bb694f84f51082",
       "tabbable": null,
       "tooltip": null,
       "value": 57929264.0
      }
     },
     "ebb7233b26864d24a6ffad1bd87f2be6": {
      "model_module": "@jupyter-widgets/base",
      "model_module_version": "2.0.0",
      "model_name": "LayoutModel",
      "state": {
       "_model_module": "@jupyter-widgets/base",
       "_model_module_version": "2.0.0",
       "_model_name": "LayoutModel",
       "_view_count": null,
       "_view_module": "@jupyter-widgets/base",
       "_view_module_version": "2.0.0",
       "_view_name": "LayoutView",
       "align_content": null,
       "align_items": null,
       "align_self": null,
       "border_bottom": null,
       "border_left": null,
       "border_right": null,
       "border_top": null,
       "bottom": null,
       "display": null,
       "flex": null,
       "flex_flow": null,
       "grid_area": null,
       "grid_auto_columns": null,
       "grid_auto_flow": null,
       "grid_auto_rows": null,
       "grid_column": null,
       "grid_gap": null,
       "grid_row": null,
       "grid_template_areas": null,
       "grid_template_columns": null,
       "grid_template_rows": null,
       "height": null,
       "justify_content": null,
       "justify_items": null,
       "left": null,
       "margin": null,
       "max_height": null,
       "max_width": null,
       "min_height": null,
       "min_width": null,
       "object_fit": null,
       "object_position": null,
       "order": null,
       "overflow": null,
       "padding": null,
       "right": null,
       "top": null,
       "visibility": null,
       "width": null
      }
     },
     "f13145d2abcb431d8a60a57009f5a982": {
      "model_module": "@jupyter-widgets/base",
      "model_module_version": "2.0.0",
      "model_name": "LayoutModel",
      "state": {
       "_model_module": "@jupyter-widgets/base",
       "_model_module_version": "2.0.0",
       "_model_name": "LayoutModel",
       "_view_count": null,
       "_view_module": "@jupyter-widgets/base",
       "_view_module_version": "2.0.0",
       "_view_name": "LayoutView",
       "align_content": null,
       "align_items": null,
       "align_self": null,
       "border_bottom": null,
       "border_left": null,
       "border_right": null,
       "border_top": null,
       "bottom": null,
       "display": null,
       "flex": null,
       "flex_flow": null,
       "grid_area": null,
       "grid_auto_columns": null,
       "grid_auto_flow": null,
       "grid_auto_rows": null,
       "grid_column": null,
       "grid_gap": null,
       "grid_row": null,
       "grid_template_areas": null,
       "grid_template_columns": null,
       "grid_template_rows": null,
       "height": null,
       "justify_content": null,
       "justify_items": null,
       "left": null,
       "margin": null,
       "max_height": null,
       "max_width": null,
       "min_height": null,
       "min_width": null,
       "object_fit": null,
       "object_position": null,
       "order": null,
       "overflow": null,
       "padding": null,
       "right": null,
       "top": null,
       "visibility": null,
       "width": null
      }
     }
    },
    "version_major": 2,
    "version_minor": 0
   }
  }
 },
 "nbformat": 4,
 "nbformat_minor": 5
}
